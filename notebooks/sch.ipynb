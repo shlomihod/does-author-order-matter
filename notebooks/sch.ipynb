{
 "cells": [
  {
   "cell_type": "code",
   "execution_count": 4,
   "metadata": {},
   "outputs": [],
   "source": [
    "import time\n",
    "\n",
    "import pandas as pd\n",
    "#import semanticscholar as sch\n",
    "#from tqdm.notebook import tqdm\n",
    "\n",
    "SLEEP = 1\n",
    "TIMEOUT = 10\n",
    "\n",
    "#papers_df = pd.read_json('../data/papers_FOCS_ICML_NIPS_STOC_2000_2009.json')\n",
    "#tcs_papers_df = papers_df[papers_df['community'] == 'TCS'].set_index('doi')\n",
    "\n",
    "\n",
    "#paper_results = {}\n",
    "#for doi in tqdm(missing_doi):\n",
    "#    paper = sch.paper(doi, timeout=TIMEOUT)\n",
    "#    if not paper:\n",
    "#        print(doi)\n",
    "#    paper_results[doi] = paper\n",
    "#    time.sleep(SLEEP)\n",
    "    \n",
    "#sch_tcs_papers_df = pd.DataFrame.from_dict(paper_results, orient='index')   \n",
    "\n",
    "#papers_df = pd.merge(papers_df,\n",
    "#                     sch_tcs_papers_df.add_suffix('_sch'),\n",
    "#                     how='left', left_on='doi', right_index=True)\n",
    "#papers_df.to_json('../data/papers_FOCS_ICML_NIPS_STOC_2000_2009_with_sch.json')"
   ]
  },
  {
   "cell_type": "code",
   "execution_count": 522,
   "metadata": {},
   "outputs": [
    {
     "data": {
      "text/plain": [
       "Index(['authors', 'title', 'venue', 'pages', 'year', 'key', 'doi', 'ee', 'url',\n",
       "       'publisher', 'authors_dblp', 'stand_authors', 'is_alphabetical',\n",
       "       'n_author', 'conf', 'community', 'volume', 'abstract_sch',\n",
       "       'arxivId_sch', 'authors_sch', 'citationVelocity_sch', 'citations_sch',\n",
       "       'corpusId_sch', 'doi_sch', 'fieldsOfStudy_sch',\n",
       "       'influentialCitationCount_sch', 'is_open_access_sch',\n",
       "       'is_publisher_licensed_sch', 'paperId_sch', 'references_sch',\n",
       "       'title_sch', 'topics_sch', 'url_sch', 'venue_sch', 'year_sch'],\n",
       "      dtype='object')"
      ]
     },
     "execution_count": 522,
     "metadata": {},
     "output_type": "execute_result"
    }
   ],
   "source": [
    "papers_df.columns"
   ]
  },
  {
   "cell_type": "code",
   "execution_count": 120,
   "metadata": {},
   "outputs": [
    {
     "data": {
      "text/plain": [
       "1516"
      ]
     },
     "execution_count": 120,
     "metadata": {},
     "output_type": "execute_result"
    }
   ],
   "source": [
    "len(papers_df[(~papers_df['authors_sch'].isna())])"
   ]
  },
  {
   "cell_type": "code",
   "execution_count": 121,
   "metadata": {},
   "outputs": [
    {
     "data": {
      "text/plain": [
       "conf\n",
       "FOCS    0.001439\n",
       "ICML    1.000000\n",
       "NIPS    1.000000\n",
       "STOC    0.000000\n",
       "Name: paperId_sch, dtype: float64"
      ]
     },
     "execution_count": 121,
     "metadata": {},
     "output_type": "execute_result"
    }
   ],
   "source": [
    "papers_df.groupby('conf')['paperId_sch'].apply(lambda g: g.isna().mean())"
   ]
  },
  {
   "cell_type": "code",
   "execution_count": 122,
   "metadata": {},
   "outputs": [
    {
     "data": {
      "text/html": [
       "<div>\n",
       "<style scoped>\n",
       "    .dataframe tbody tr th:only-of-type {\n",
       "        vertical-align: middle;\n",
       "    }\n",
       "\n",
       "    .dataframe tbody tr th {\n",
       "        vertical-align: top;\n",
       "    }\n",
       "\n",
       "    .dataframe thead th {\n",
       "        text-align: right;\n",
       "    }\n",
       "</style>\n",
       "<table border=\"1\" class=\"dataframe\">\n",
       "  <thead>\n",
       "    <tr style=\"text-align: right;\">\n",
       "      <th></th>\n",
       "      <th>authors</th>\n",
       "      <th>title</th>\n",
       "      <th>venue</th>\n",
       "      <th>pages</th>\n",
       "      <th>year</th>\n",
       "      <th>key</th>\n",
       "      <th>doi</th>\n",
       "      <th>ee</th>\n",
       "      <th>url</th>\n",
       "      <th>publisher</th>\n",
       "      <th>...</th>\n",
       "      <th>influentialCitationCount_sch</th>\n",
       "      <th>is_open_access_sch</th>\n",
       "      <th>is_publisher_licensed_sch</th>\n",
       "      <th>paperId_sch</th>\n",
       "      <th>references_sch</th>\n",
       "      <th>title_sch</th>\n",
       "      <th>topics_sch</th>\n",
       "      <th>url_sch</th>\n",
       "      <th>venue_sch</th>\n",
       "      <th>year_sch</th>\n",
       "    </tr>\n",
       "  </thead>\n",
       "  <tbody>\n",
       "    <tr>\n",
       "      <th>610</th>\n",
       "      <td>[Mihai Patrascu]</td>\n",
       "      <td>Succincter.</td>\n",
       "      <td>FOCS</td>\n",
       "      <td>305-313</td>\n",
       "      <td>2008</td>\n",
       "      <td>conf/focs/Patrascu08</td>\n",
       "      <td>10.1109/FOCS.2008.83</td>\n",
       "      <td>https://doi.org/10.1109/FOCS.2008.83</td>\n",
       "      <td>https://dblp.org/rec/conf/focs/Patrascu08</td>\n",
       "      <td>NaN</td>\n",
       "      <td>...</td>\n",
       "      <td>NaN</td>\n",
       "      <td>NaN</td>\n",
       "      <td>NaN</td>\n",
       "      <td>NaN</td>\n",
       "      <td>NaN</td>\n",
       "      <td>NaN</td>\n",
       "      <td>NaN</td>\n",
       "      <td>NaN</td>\n",
       "      <td>NaN</td>\n",
       "      <td>NaN</td>\n",
       "    </tr>\n",
       "  </tbody>\n",
       "</table>\n",
       "<p>1 rows × 35 columns</p>\n",
       "</div>"
      ],
      "text/plain": [
       "              authors        title venue    pages  year                   key  \\\n",
       "610  [Mihai Patrascu]  Succincter.  FOCS  305-313  2008  conf/focs/Patrascu08   \n",
       "\n",
       "                      doi                                    ee  \\\n",
       "610  10.1109/FOCS.2008.83  https://doi.org/10.1109/FOCS.2008.83   \n",
       "\n",
       "                                           url  publisher  ...  \\\n",
       "610  https://dblp.org/rec/conf/focs/Patrascu08        NaN  ...   \n",
       "\n",
       "    influentialCitationCount_sch is_open_access_sch  \\\n",
       "610                          NaN                NaN   \n",
       "\n",
       "     is_publisher_licensed_sch  paperId_sch references_sch title_sch  \\\n",
       "610                        NaN          NaN            NaN       NaN   \n",
       "\n",
       "     topics_sch url_sch venue_sch year_sch  \n",
       "610         NaN     NaN       NaN      NaN  \n",
       "\n",
       "[1 rows x 35 columns]"
      ]
     },
     "execution_count": 122,
     "metadata": {},
     "output_type": "execute_result"
    }
   ],
   "source": [
    "papers_df[(papers_df['conf'] == 'FOCS') & papers_df['paperId_sch'].isna()]"
   ]
  },
  {
   "cell_type": "code",
   "execution_count": 79,
   "metadata": {},
   "outputs": [],
   "source": [
    "all_authors = set.union(*papers_df[~papers_df['paperId_sch'].isna()]['authors_sch'].apply(lambda authors: {author['authorId']\n",
    "                                                                                  for author in authors}))"
   ]
  },
  {
   "cell_type": "code",
   "execution_count": 80,
   "metadata": {},
   "outputs": [],
   "source": [
    "#author_results = {}"
   ]
  },
  {
   "cell_type": "code",
   "execution_count": 166,
   "metadata": {},
   "outputs": [
    {
     "data": {
      "application/vnd.jupyter.widget-view+json": {
       "model_id": "ba48fcbc18624778ad33b76e112857d2",
       "version_major": 2,
       "version_minor": 0
      },
      "text/plain": [
       "HBox(children=(FloatProgress(value=0.0, max=2.0), HTML(value='')))"
      ]
     },
     "metadata": {},
     "output_type": "display_data"
    },
    {
     "name": "stdout",
     "output_type": "stream",
     "text": [
      "None\n",
      "\n"
     ]
    }
   ],
   "source": [
    "# for author_id in tqdm(all_authors - set(author_results.keys())):\n",
    "#    author = sch.author(author_id, timeout=TIMEOUT)\n",
    "#    if not author:\n",
    "#        print(author_id)\n",
    "#    else:\n",
    "#        author_results[author_id] = author\n",
    "#    time.sleep(SLEEP)\n"
   ]
  },
  {
   "cell_type": "code",
   "execution_count": 520,
   "metadata": {},
   "outputs": [],
   "source": [
    "#with open('../data/authors_FOCS_ICML_NIPS_STOC_2000_2009_with_sch.pckl', 'wb') as f:\n",
    "#    pickle.dump(author_results, f)"
   ]
  },
  {
   "cell_type": "code",
   "execution_count": 43,
   "metadata": {},
   "outputs": [],
   "source": [
    "import pickle\n",
    "\n",
    "authors_df = pd.read_json('../data/authors_FOCS_ICML_NIPS_STOC_2000_2009.json')\n",
    "with open('../data/authors_FOCS_ICML_NIPS_STOC_2000_2009_with_sch.pckl', 'rb') as f:\n",
    "    author_results = pickle.load(f)"
   ]
  },
  {
   "cell_type": "code",
   "execution_count": 76,
   "metadata": {},
   "outputs": [],
   "source": [
    "import string\n",
    "import numpy as np\n",
    "\n",
    "papers_df['author_letter_int'] = papers_df['stand_authors'].apply(lambda r: [string.ascii_uppercase.index(a[0]) for a in r])\n",
    "papers_df['avg_author_letter_int'] = papers_df['author_letter_int'].apply(np.mean)\n"
   ]
  },
  {
   "cell_type": "code",
   "execution_count": 576,
   "metadata": {},
   "outputs": [
    {
     "data": {
      "text/plain": [
       "n_author\n",
       "1    11.327434\n",
       "2    11.308989\n",
       "3    10.968606\n",
       "4    11.164634\n",
       "5    10.353191\n",
       "6    10.712121\n",
       "7    12.571429\n",
       "8     9.968750\n",
       "Name: avg_author_letter_int, dtype: float64"
      ]
     },
     "execution_count": 576,
     "metadata": {},
     "output_type": "execute_result"
    }
   ],
   "source": [
    "(papers_df[(papers_df['community'] == 'TCS') & (papers_df['is_alphabetical'])]\n",
    " .groupby('n_author')['avg_author_letter_int']).mean()"
   ]
  },
  {
   "cell_type": "code",
   "execution_count": 565,
   "metadata": {},
   "outputs": [
    {
     "data": {
      "text/plain": [
       "n_author\n",
       "1    339\n",
       "2    534\n",
       "3    361\n",
       "4    164\n",
       "5     47\n",
       "6     22\n",
       "7      2\n",
       "8      4\n",
       "dtype: int64"
      ]
     },
     "execution_count": 565,
     "metadata": {},
     "output_type": "execute_result"
    }
   ],
   "source": [
    "(papers_df[(papers_df['community'] == 'TCS') & (papers_df['is_alphabetical'])]\n",
    " .groupby('n_author').size())"
   ]
  },
  {
   "cell_type": "code",
   "execution_count": null,
   "metadata": {},
   "outputs": [],
   "source": [
    "q= (papers_df[(papers_df['community'] == 'TCS') & (papers_df['is_alphabetical'])]\n",
    " .groupby('n_author').size())"
   ]
  },
  {
   "cell_type": "code",
   "execution_count": 71,
   "metadata": {},
   "outputs": [],
   "source": [
    "papers_df['is_sing'] = (papers_df['n_author'] == 1)"
   ]
  },
  {
   "cell_type": "code",
   "execution_count": 95,
   "metadata": {},
   "outputs": [],
   "source": [
    "is_sing_letter_dist = (papers_df[(papers_df['community'] == 'TCS') & (papers_df['is_alphabetical'])]\n",
    " .groupby('is_sing')\n",
    " ['author_letter_int']\n",
    " .apply(lambda g: sum(g, [])))"
   ]
  },
  {
   "cell_type": "code",
   "execution_count": 92,
   "metadata": {},
   "outputs": [],
   "source": [
    "from scipy.stats import ks_2samp\n",
    "import seaborn as sns"
   ]
  },
  {
   "cell_type": "code",
   "execution_count": 97,
   "metadata": {},
   "outputs": [
    {
     "data": {
      "text/plain": [
       "KstestResult(statistic=0.056455779695487276, pvalue=0.2708782851313566)"
      ]
     },
     "execution_count": 97,
     "metadata": {},
     "output_type": "execute_result"
    }
   ],
   "source": [
    "ks_2samp(is_sing_letter_dist[True], is_sing_letter_dist[False])"
   ]
  },
  {
   "cell_type": "code",
   "execution_count": null,
   "metadata": {},
   "outputs": [],
   "source": []
  },
  {
   "cell_type": "code",
   "execution_count": 10,
   "metadata": {},
   "outputs": [
    {
     "ename": "NameError",
     "evalue": "name 'sch_tcs_authors_df' is not defined",
     "output_type": "error",
     "traceback": [
      "\u001b[0;31m---------------------------------------------------------------------------\u001b[0m",
      "\u001b[0;31mNameError\u001b[0m                                 Traceback (most recent call last)",
      "\u001b[0;32m<ipython-input-10-b126d9eb76f1>\u001b[0m in \u001b[0;36m<module>\u001b[0;34m\u001b[0m\n\u001b[0;32m----> 1\u001b[0;31m \u001b[0mlen\u001b[0m\u001b[0;34m(\u001b[0m\u001b[0mset\u001b[0m\u001b[0;34m(\u001b[0m\u001b[0msch_tcs_authors_df\u001b[0m\u001b[0;34m.\u001b[0m\u001b[0mindex\u001b[0m\u001b[0;34m)\u001b[0m\u001b[0;34m)\u001b[0m\u001b[0;34m\u001b[0m\u001b[0;34m\u001b[0m\u001b[0m\n\u001b[0m",
      "\u001b[0;31mNameError\u001b[0m: name 'sch_tcs_authors_df' is not defined"
     ]
    }
   ],
   "source": [
    "len(set(sch_tcs_authors_df.index))"
   ]
  },
  {
   "cell_type": "code",
   "execution_count": 44,
   "metadata": {},
   "outputs": [],
   "source": [
    "papers_df = pd.read_json('../data/papers_FOCS_ICML_NIPS_STOC_2000_2009_with_sch.json')"
   ]
  },
  {
   "cell_type": "code",
   "execution_count": 46,
   "metadata": {},
   "outputs": [],
   "source": [
    "def unify_sch_author_by_dblp(author_group):\n",
    "    return pd.Series({'aliases': list(set.union(*map(set, author_group['aliases']))),\n",
    "                      'authorId': list(author_group['authorId']),\n",
    "                      'influentialCitationCount': sum(a for a in author_group['influentialCitationCount']),\n",
    "                      'papers': sum(author_group['papers'], []),\n",
    "                      'name': list(set(author_group['name'])),\n",
    "                      'url': list(author_group['authorId'])})\n",
    "\n",
    "\n",
    "authors_sch2dblp = {}\n",
    "for _, paper in papers_df[~papers_df['authors_sch'].isna()].iterrows():\n",
    "    authors_sch2dblp.update(dict(zip((author['authorId'] for author in paper['authors_sch']),\n",
    "                                     paper['authors'])))\n",
    "sch_tcs_authors_df = pd.DataFrame.from_dict(author_results, orient='index')\n",
    "sch_tcs_authors_df['dblp_name'] = pd.Series(authors_sch2dblp)\n",
    "assert (sch_tcs_authors_df.index == sch_tcs_authors_df['authorId']).all()\n",
    "sch_tcs_authors_df = sch_tcs_authors_df.set_index('dblp_name')\n",
    "\n",
    "\n",
    "sch_tcs_authors_df = pd.DataFrame.from_dict(author_results, orient='index')\n",
    "sch_tcs_authors_df['dblp_name'] = pd.Series(authors_sch2dblp)\n",
    "\n",
    "sch_tcs_authors_df = sch_tcs_authors_df.groupby('dblp_name').apply(unify_sch_author_by_dblp)\n",
    "sch_tcs_authors_df['n_pub'] = sch_tcs_authors_df['papers'].apply(len)\n",
    "sch_tcs_authors_df['scientific_birth_year'] = sch_tcs_authors_df['papers'].apply(lambda r: min(p['year'] for p in r if p['year']))\n",
    "sch_tcs_authors_df['scientific_age'] = 2021 - sch_tcs_authors_df['scientific_birth_year']\n",
    "\n",
    "sch_tcs_authors_df['annual_productiviy'] = sch_tcs_authors_df['n_pub'] / sch_tcs_authors_df['scientific_birth_year']\n",
    "\n",
    "authors_df = pd.merge(authors_df,\n",
    "             sch_tcs_authors_df.add_suffix('_sch'),\n",
    "             how='left', left_index=True, right_index=True)"
   ]
  },
  {
   "cell_type": "code",
   "execution_count": 48,
   "metadata": {},
   "outputs": [
    {
     "data": {
      "text/plain": [
       "Index(['stand_name', 'confs', 'communities', 'community', 'community_ratio',\n",
       "       'major_community', 'multi', 'real_name', 'papers_authors', 'coauthors',\n",
       "       'n_pub', 'n_coauthor', 'stand_coauthors', 'avg_is_sort', 'only_sing',\n",
       "       'coauthors_letter', 'positions', 'first_prop', 'last_prop', 'letter',\n",
       "       'letter_int', 'letter_val', 'status', 'affiliation', 'citedby',\n",
       "       'citedby5y', 'cites_per_year', 'email', 'hindex', 'hindex5y',\n",
       "       'i10index', 'i10index5y', 'id', 'interests', 'url_picture',\n",
       "       'scientific_age', 'annual_productivity', 'real_last_prop',\n",
       "       'avg_coauthor', 'aliases_sch', 'authorId_sch',\n",
       "       'influentialCitationCount_sch', 'papers_sch', 'name_sch', 'url_sch',\n",
       "       'n_pub_sch', 'scientific_birth_year_sch', 'scientific_age_sch',\n",
       "       'annual_productiviy_sch'],\n",
       "      dtype='object')"
      ]
     },
     "execution_count": 48,
     "metadata": {},
     "output_type": "execute_result"
    }
   ],
   "source": [
    "authors_df.columns"
   ]
  },
  {
   "cell_type": "code",
   "execution_count": 1,
   "metadata": {},
   "outputs": [
    {
     "name": "stderr",
     "output_type": "stream",
     "text": [
      "Using TensorFlow backend.\n"
     ]
    }
   ],
   "source": [
    "from nameparser import HumanName\n",
    "from ethnicolr import census_ln, pred_census_ln, pred_wiki_name, pred_wiki_ln"
   ]
  },
  {
   "cell_type": "code",
   "execution_count": 45,
   "metadata": {},
   "outputs": [
    {
     "data": {
      "text/plain": [
       "Index(['stand_name', 'confs', 'communities', 'community', 'community_ratio',\n",
       "       'major_community', 'multi', 'real_name', 'papers_authors', 'coauthors',\n",
       "       'n_pub', 'n_coauthor', 'stand_coauthors', 'avg_is_sort', 'only_sing',\n",
       "       'coauthors_letter', 'positions', 'first_prop', 'last_prop', 'letter',\n",
       "       'letter_int', 'letter_val', 'status', 'affiliation', 'citedby',\n",
       "       'citedby5y', 'cites_per_year', 'email', 'hindex', 'hindex5y',\n",
       "       'i10index', 'i10index5y', 'id', 'interests', 'url_picture',\n",
       "       'scientific_age', 'annual_productivity', 'real_last_prop',\n",
       "       'avg_coauthor'],\n",
       "      dtype='object')"
      ]
     },
     "execution_count": 45,
     "metadata": {},
     "output_type": "execute_result"
    }
   ],
   "source": [
    "authors_df.columns"
   ]
  },
  {
   "cell_type": "code",
   "execution_count": null,
   "metadata": {},
   "outputs": [],
   "source": []
  },
  {
   "cell_type": "code",
   "execution_count": 49,
   "metadata": {},
   "outputs": [],
   "source": [
    "#TODO MAIN\n",
    "\n",
    "authors_df = pd.merge(authors_df, authors_df['real_name'].apply(lambda r: HumanName(r)).apply(lambda name: pd.Series({'first_name': name.first,\n",
    "                                                                           'middle_name': name.middle,\n",
    "                                                                           'last_name': name.last})),\n",
    "             how='left', left_index=True, right_index=True)"
   ]
  },
  {
   "cell_type": "code",
   "execution_count": 50,
   "metadata": {},
   "outputs": [],
   "source": [
    "authors_df = pred_wiki_name(authors_df, 'last_name', 'first_name')\n",
    "authors_df['race_main'] = authors_df['race'].str.split(',').str[0]"
   ]
  },
  {
   "cell_type": "code",
   "execution_count": 51,
   "metadata": {},
   "outputs": [
    {
     "data": {
      "text/plain": [
       "GreaterEuropean    3677\n",
       "Asian              1540\n",
       "GreaterAfrican      205\n",
       "Name: race_main, dtype: int64"
      ]
     },
     "execution_count": 51,
     "metadata": {},
     "output_type": "execute_result"
    }
   ],
   "source": [
    "authors_df['race_main'].value_counts()"
   ]
  },
  {
   "cell_type": "code",
   "execution_count": 524,
   "metadata": {},
   "outputs": [],
   "source": [
    "import string"
   ]
  },
  {
   "cell_type": "code",
   "execution_count": 545,
   "metadata": {},
   "outputs": [],
   "source": [
    "q['coauthors_letter_int'] = q['coauthors_letter'].apply(lambda r: [string.ascii_uppercase.index(letter) for letter in r])"
   ]
  },
  {
   "cell_type": "code",
   "execution_count": 546,
   "metadata": {},
   "outputs": [],
   "source": [
    "qq = q[(q['community'] == 'TCS') & ~q['only_sing']]"
   ]
  },
  {
   "cell_type": "code",
   "execution_count": 553,
   "metadata": {},
   "outputs": [
    {
     "data": {
      "text/plain": [
       "<matplotlib.axes._subplots.AxesSubplot at 0x15fdbdee0>"
      ]
     },
     "execution_count": 553,
     "metadata": {},
     "output_type": "execute_result"
    },
    {
     "data": {
      "image/png": "[encoded data removed]",
      "text/plain": [
       "<Figure size 432x288 with 1 Axes>"
      ]
     },
     "metadata": {
      "needs_background": "light"
     },
     "output_type": "display_data"
    }
   ],
   "source": [
    "qq.groupby('letter_int').apply(lambda g: (g['coauthors_letter_int'].apply(np.mean)).mean()).plot()"
   ]
  },
  {
   "cell_type": "code",
   "execution_count": 62,
   "metadata": {},
   "outputs": [],
   "source": [
    "import gender_guesser.detector as gender\n",
    "\n",
    "gender_detector = gender.Detector()"
   ]
  },
  {
   "cell_type": "code",
   "execution_count": 67,
   "metadata": {},
   "outputs": [],
   "source": [
    "authors_df['perhaps_gender'] = authors_df['first_name'].apply(gender_detector.get_gender)"
   ]
  },
  {
   "cell_type": "code",
   "execution_count": 68,
   "metadata": {},
   "outputs": [
    {
     "data": {
      "text/plain": [
       "male             3513\n",
       "unknown           963\n",
       "female            453\n",
       "andy              290\n",
       "mostly_male       156\n",
       "mostly_female      47\n",
       "Name: perhaps_gender, dtype: int64"
      ]
     },
     "execution_count": 68,
     "metadata": {},
     "output_type": "execute_result"
    }
   ],
   "source": [
    "authors_df['perhaps_gender'].value_counts()"
   ]
  },
  {
   "cell_type": "code",
   "execution_count": 22,
   "metadata": {},
   "outputs": [],
   "source": [
    "pred_wiki_name?"
   ]
  },
  {
   "cell_type": "code",
   "execution_count": 447,
   "metadata": {},
   "outputs": [],
   "source": [
    "from scipy import stats"
   ]
  },
  {
   "cell_type": "code",
   "execution_count": 457,
   "metadata": {},
   "outputs": [
    {
     "data": {
      "text/plain": [
       "(0.33298852279428587, 3.275011256650299e-35)"
      ]
     },
     "execution_count": 457,
     "metadata": {},
     "output_type": "execute_result"
    }
   ],
   "source": [
    "stats.pearsonr(sch_tcs_authors_df['scientific_age'], sch_tcs_authors_df['n_pub'])"
   ]
  },
  {
   "cell_type": "code",
   "execution_count": 455,
   "metadata": {},
   "outputs": [
    {
     "data": {
      "text/plain": [
       "dblp_name\n",
       "Aaron Archer              25\n",
       "Aaron Bernstein           37\n",
       "Aaron Clauset             18\n",
       "Aaron Cote                26\n",
       "Aaron Roth 0001           89\n",
       "                          ..\n",
       "Zulfikar Ramzan           23\n",
       "Zvi Lotker                22\n",
       "Ákos Seress               38\n",
       "Éric Colin de Verdière    20\n",
       "Éva Tardos                39\n",
       "Name: scientific_age, Length: 1307, dtype: int64"
      ]
     },
     "execution_count": 455,
     "metadata": {},
     "output_type": "execute_result"
    }
   ],
   "source": [
    "sch_tcs_authors_df['scientific_age']"
   ]
  },
  {
   "cell_type": "code",
   "execution_count": 34,
   "metadata": {},
   "outputs": [],
   "source": [
    "import statsmodels.api as sm\n",
    "import statsmodels.formula.api as smf\n"
   ]
  },
  {
   "cell_type": "code",
   "execution_count": null,
   "metadata": {},
   "outputs": [],
   "source": []
  },
  {
   "cell_type": "code",
   "execution_count": 389,
   "metadata": {},
   "outputs": [
    {
     "data": {
      "text/plain": [
       "ML      4100\n",
       "TCS     1241\n",
       "BOTH      81\n",
       "Name: community, dtype: int64"
      ]
     },
     "execution_count": 389,
     "metadata": {},
     "output_type": "execute_result"
    }
   ],
   "source": [
    "q['community'].value_counts()"
   ]
  },
  {
   "cell_type": "code",
   "execution_count": 475,
   "metadata": {},
   "outputs": [
    {
     "data": {
      "text/plain": [
       "209.0"
      ]
     },
     "execution_count": 475,
     "metadata": {},
     "output_type": "execute_result"
    }
   ],
   "source": [
    "q['influentialCitationCount_sch'].median()\n"
   ]
  },
  {
   "cell_type": "code",
   "execution_count": null,
   "metadata": {},
   "outputs": [],
   "source": []
  },
  {
   "cell_type": "code",
   "execution_count": 70,
   "metadata": {},
   "outputs": [
    {
     "data": {
      "text/html": [
       "<table class=\"simpletable\">\n",
       "<caption>OLS Regression Results</caption>\n",
       "<tr>\n",
       "  <th>Dep. Variable:</th>    <td>influentialCitationCount_sch</td> <th>  R-squared:         </th> <td>   0.036</td> \n",
       "</tr>\n",
       "<tr>\n",
       "  <th>Model:</th>                         <td>OLS</td>             <th>  Adj. R-squared:    </th> <td>   0.022</td> \n",
       "</tr>\n",
       "<tr>\n",
       "  <th>Method:</th>                   <td>Least Squares</td>        <th>  F-statistic:       </th> <td>   2.522</td> \n",
       "</tr>\n",
       "<tr>\n",
       "  <th>Date:</th>                   <td>Tue, 08 Dec 2020</td>       <th>  Prob (F-statistic):</th>  <td>0.00767</td> \n",
       "</tr>\n",
       "<tr>\n",
       "  <th>Time:</th>                       <td>10:07:52</td>           <th>  Log-Likelihood:    </th> <td> -5076.7</td> \n",
       "</tr>\n",
       "<tr>\n",
       "  <th>No. Observations:</th>            <td>   611</td>            <th>  AIC:               </th> <td>1.017e+04</td>\n",
       "</tr>\n",
       "<tr>\n",
       "  <th>Df Residuals:</th>                <td>   601</td>            <th>  BIC:               </th> <td>1.022e+04</td>\n",
       "</tr>\n",
       "<tr>\n",
       "  <th>Df Model:</th>                    <td>     9</td>            <th>                     </th>     <td> </td>    \n",
       "</tr>\n",
       "<tr>\n",
       "  <th>Covariance Type:</th>            <td>nonrobust</td>          <th>                     </th>     <td> </td>    \n",
       "</tr>\n",
       "</table>\n",
       "<table class=\"simpletable\">\n",
       "<tr>\n",
       "                 <td></td>                    <th>coef</th>     <th>std err</th>      <th>t</th>      <th>P>|t|</th>  <th>[0.025</th>    <th>0.975]</th>  \n",
       "</tr>\n",
       "<tr>\n",
       "  <th>Intercept</th>                       <td>  266.7900</td> <td>  275.300</td> <td>    0.969</td> <td> 0.333</td> <td> -273.878</td> <td>  807.458</td>\n",
       "</tr>\n",
       "<tr>\n",
       "  <th>race_main[T.GreaterAfrican]</th>     <td> -146.7667</td> <td>  201.935</td> <td>   -0.727</td> <td> 0.468</td> <td> -543.350</td> <td>  249.816</td>\n",
       "</tr>\n",
       "<tr>\n",
       "  <th>race_main[T.GreaterEuropean]</th>    <td>  -55.0004</td> <td>  114.344</td> <td>   -0.481</td> <td> 0.631</td> <td> -279.563</td> <td>  169.563</td>\n",
       "</tr>\n",
       "<tr>\n",
       "  <th>perhaps_gender[T.female]</th>        <td>   32.9426</td> <td>  289.804</td> <td>    0.114</td> <td> 0.910</td> <td> -536.209</td> <td>  602.094</td>\n",
       "</tr>\n",
       "<tr>\n",
       "  <th>perhaps_gender[T.male]</th>          <td>   80.4945</td> <td>  259.841</td> <td>    0.310</td> <td> 0.757</td> <td> -429.812</td> <td>  590.801</td>\n",
       "</tr>\n",
       "<tr>\n",
       "  <th>perhaps_gender[T.mostly_female]</th> <td>  372.2443</td> <td>  427.710</td> <td>    0.870</td> <td> 0.384</td> <td> -467.744</td> <td> 1212.233</td>\n",
       "</tr>\n",
       "<tr>\n",
       "  <th>perhaps_gender[T.mostly_male]</th>   <td>  -20.9818</td> <td>  325.270</td> <td>   -0.065</td> <td> 0.949</td> <td> -659.786</td> <td>  617.823</td>\n",
       "</tr>\n",
       "<tr>\n",
       "  <th>perhaps_gender[T.unknown]</th>       <td>  -57.5879</td> <td>  266.233</td> <td>   -0.216</td> <td> 0.829</td> <td> -580.448</td> <td>  465.272</td>\n",
       "</tr>\n",
       "<tr>\n",
       "  <th>letter_int</th>                      <td>    3.5253</td> <td>    5.762</td> <td>    0.612</td> <td> 0.541</td> <td>   -7.791</td> <td>   14.842</td>\n",
       "</tr>\n",
       "<tr>\n",
       "  <th>scientific_age_sch</th>              <td>   14.4426</td> <td>    3.407</td> <td>    4.239</td> <td> 0.000</td> <td>    7.751</td> <td>   21.134</td>\n",
       "</tr>\n",
       "</table>\n",
       "<table class=\"simpletable\">\n",
       "<tr>\n",
       "  <th>Omnibus:</th>       <td>603.816</td> <th>  Durbin-Watson:     </th> <td>   1.890</td> \n",
       "</tr>\n",
       "<tr>\n",
       "  <th>Prob(Omnibus):</th> <td> 0.000</td>  <th>  Jarque-Bera (JB):  </th> <td>22005.693</td>\n",
       "</tr>\n",
       "<tr>\n",
       "  <th>Skew:</th>          <td> 4.535</td>  <th>  Prob(JB):          </th> <td>    0.00</td> \n",
       "</tr>\n",
       "<tr>\n",
       "  <th>Kurtosis:</th>      <td>30.966</td>  <th>  Cond. No.          </th> <td>    599.</td> \n",
       "</tr>\n",
       "</table><br/><br/>Notes:<br/>[1] Standard Errors assume that the covariance matrix of the errors is correctly specified."
      ],
      "text/plain": [
       "<class 'statsmodels.iolib.summary.Summary'>\n",
       "\"\"\"\n",
       "                                 OLS Regression Results                                 \n",
       "========================================================================================\n",
       "Dep. Variable:     influentialCitationCount_sch   R-squared:                       0.036\n",
       "Model:                                      OLS   Adj. R-squared:                  0.022\n",
       "Method:                           Least Squares   F-statistic:                     2.522\n",
       "Date:                          Tue, 08 Dec 2020   Prob (F-statistic):            0.00767\n",
       "Time:                                  10:07:52   Log-Likelihood:                -5076.7\n",
       "No. Observations:                           611   AIC:                         1.017e+04\n",
       "Df Residuals:                               601   BIC:                         1.022e+04\n",
       "Df Model:                                     9                                         \n",
       "Covariance Type:                      nonrobust                                         \n",
       "===================================================================================================\n",
       "                                      coef    std err          t      P>|t|      [0.025      0.975]\n",
       "---------------------------------------------------------------------------------------------------\n",
       "Intercept                         266.7900    275.300      0.969      0.333    -273.878     807.458\n",
       "race_main[T.GreaterAfrican]      -146.7667    201.935     -0.727      0.468    -543.350     249.816\n",
       "race_main[T.GreaterEuropean]      -55.0004    114.344     -0.481      0.631    -279.563     169.563\n",
       "perhaps_gender[T.female]           32.9426    289.804      0.114      0.910    -536.209     602.094\n",
       "perhaps_gender[T.male]             80.4945    259.841      0.310      0.757    -429.812     590.801\n",
       "perhaps_gender[T.mostly_female]   372.2443    427.710      0.870      0.384    -467.744    1212.233\n",
       "perhaps_gender[T.mostly_male]     -20.9818    325.270     -0.065      0.949    -659.786     617.823\n",
       "perhaps_gender[T.unknown]         -57.5879    266.233     -0.216      0.829    -580.448     465.272\n",
       "letter_int                          3.5253      5.762      0.612      0.541      -7.791      14.842\n",
       "scientific_age_sch                 14.4426      3.407      4.239      0.000       7.751      21.134\n",
       "==============================================================================\n",
       "Omnibus:                      603.816   Durbin-Watson:                   1.890\n",
       "Prob(Omnibus):                  0.000   Jarque-Bera (JB):            22005.693\n",
       "Skew:                           4.535   Prob(JB):                         0.00\n",
       "Kurtosis:                      30.966   Cond. No.                         599.\n",
       "==============================================================================\n",
       "\n",
       "Notes:\n",
       "[1] Standard Errors assume that the covariance matrix of the errors is correctly specified.\n",
       "\"\"\""
      ]
     },
     "execution_count": 70,
     "metadata": {},
     "output_type": "execute_result"
    }
   ],
   "source": [
    "(smf.ols('influentialCitationCount_sch ~ letter_int + scientific_age_sch + race_main + perhaps_gender', data=authors_df[(authors_df['community'] == 'TCS')\n",
    "                                                                               & (authors_df['influentialCitationCount_sch'] >= 200)])\n",
    " .fit().summary())"
   ]
  },
  {
   "cell_type": "code",
   "execution_count": null,
   "metadata": {},
   "outputs": [],
   "source": []
  },
  {
   "cell_type": "code",
   "execution_count": 58,
   "metadata": {},
   "outputs": [
    {
     "data": {
      "text/html": [
       "<table class=\"simpletable\">\n",
       "<caption>OLS Regression Results</caption>\n",
       "<tr>\n",
       "  <th>Dep. Variable:</th>         <td>hindex</td>      <th>  R-squared:         </th> <td>   0.189</td> \n",
       "</tr>\n",
       "<tr>\n",
       "  <th>Model:</th>                   <td>OLS</td>       <th>  Adj. R-squared:    </th> <td>   0.188</td> \n",
       "</tr>\n",
       "<tr>\n",
       "  <th>Method:</th>             <td>Least Squares</td>  <th>  F-statistic:       </th> <td>   161.3</td> \n",
       "</tr>\n",
       "<tr>\n",
       "  <th>Date:</th>             <td>Tue, 08 Dec 2020</td> <th>  Prob (F-statistic):</th> <td>2.66e-124</td>\n",
       "</tr>\n",
       "<tr>\n",
       "  <th>Time:</th>                 <td>10:02:43</td>     <th>  Log-Likelihood:    </th> <td> -13090.</td> \n",
       "</tr>\n",
       "<tr>\n",
       "  <th>No. Observations:</th>      <td>  2780</td>      <th>  AIC:               </th> <td>2.619e+04</td>\n",
       "</tr>\n",
       "<tr>\n",
       "  <th>Df Residuals:</th>          <td>  2775</td>      <th>  BIC:               </th> <td>2.622e+04</td>\n",
       "</tr>\n",
       "<tr>\n",
       "  <th>Df Model:</th>              <td>     4</td>      <th>                     </th>     <td> </td>    \n",
       "</tr>\n",
       "<tr>\n",
       "  <th>Covariance Type:</th>      <td>nonrobust</td>    <th>                     </th>     <td> </td>    \n",
       "</tr>\n",
       "</table>\n",
       "<table class=\"simpletable\">\n",
       "<tr>\n",
       "                <td></td>                  <th>coef</th>     <th>std err</th>      <th>t</th>      <th>P>|t|</th>  <th>[0.025</th>    <th>0.975]</th>  \n",
       "</tr>\n",
       "<tr>\n",
       "  <th>Intercept</th>                    <td>    2.3725</td> <td>    1.961</td> <td>    1.210</td> <td> 0.226</td> <td>   -1.472</td> <td>    6.217</td>\n",
       "</tr>\n",
       "<tr>\n",
       "  <th>race_main[T.GreaterAfrican]</th>  <td>   -7.6846</td> <td>    2.868</td> <td>   -2.679</td> <td> 0.007</td> <td>  -13.309</td> <td>   -2.060</td>\n",
       "</tr>\n",
       "<tr>\n",
       "  <th>race_main[T.GreaterEuropean]</th> <td>   -6.1884</td> <td>    1.127</td> <td>   -5.492</td> <td> 0.000</td> <td>   -8.398</td> <td>   -3.979</td>\n",
       "</tr>\n",
       "<tr>\n",
       "  <th>letter_int</th>                   <td>    0.2196</td> <td>    0.072</td> <td>    3.054</td> <td> 0.002</td> <td>    0.079</td> <td>    0.361</td>\n",
       "</tr>\n",
       "<tr>\n",
       "  <th>scientific_age</th>               <td>    1.8391</td> <td>    0.074</td> <td>   24.939</td> <td> 0.000</td> <td>    1.694</td> <td>    1.984</td>\n",
       "</tr>\n",
       "</table>\n",
       "<table class=\"simpletable\">\n",
       "<tr>\n",
       "  <th>Omnibus:</th>       <td>1129.401</td> <th>  Durbin-Watson:     </th> <td>   1.959</td>\n",
       "</tr>\n",
       "<tr>\n",
       "  <th>Prob(Omnibus):</th>  <td> 0.000</td>  <th>  Jarque-Bera (JB):  </th> <td>5798.263</td>\n",
       "</tr>\n",
       "<tr>\n",
       "  <th>Skew:</th>           <td> 1.887</td>  <th>  Prob(JB):          </th> <td>    0.00</td>\n",
       "</tr>\n",
       "<tr>\n",
       "  <th>Kurtosis:</th>       <td> 8.985</td>  <th>  Cond. No.          </th> <td>    142.</td>\n",
       "</tr>\n",
       "</table><br/><br/>Notes:<br/>[1] Standard Errors assume that the covariance matrix of the errors is correctly specified."
      ],
      "text/plain": [
       "<class 'statsmodels.iolib.summary.Summary'>\n",
       "\"\"\"\n",
       "                            OLS Regression Results                            \n",
       "==============================================================================\n",
       "Dep. Variable:                 hindex   R-squared:                       0.189\n",
       "Model:                            OLS   Adj. R-squared:                  0.188\n",
       "Method:                 Least Squares   F-statistic:                     161.3\n",
       "Date:                Tue, 08 Dec 2020   Prob (F-statistic):          2.66e-124\n",
       "Time:                        10:02:43   Log-Likelihood:                -13090.\n",
       "No. Observations:                2780   AIC:                         2.619e+04\n",
       "Df Residuals:                    2775   BIC:                         2.622e+04\n",
       "Df Model:                           4                                         \n",
       "Covariance Type:            nonrobust                                         \n",
       "================================================================================================\n",
       "                                   coef    std err          t      P>|t|      [0.025      0.975]\n",
       "------------------------------------------------------------------------------------------------\n",
       "Intercept                        2.3725      1.961      1.210      0.226      -1.472       6.217\n",
       "race_main[T.GreaterAfrican]     -7.6846      2.868     -2.679      0.007     -13.309      -2.060\n",
       "race_main[T.GreaterEuropean]    -6.1884      1.127     -5.492      0.000      -8.398      -3.979\n",
       "letter_int                       0.2196      0.072      3.054      0.002       0.079       0.361\n",
       "scientific_age                   1.8391      0.074     24.939      0.000       1.694       1.984\n",
       "==============================================================================\n",
       "Omnibus:                     1129.401   Durbin-Watson:                   1.959\n",
       "Prob(Omnibus):                  0.000   Jarque-Bera (JB):             5798.263\n",
       "Skew:                           1.887   Prob(JB):                         0.00\n",
       "Kurtosis:                       8.985   Cond. No.                         142.\n",
       "==============================================================================\n",
       "\n",
       "Notes:\n",
       "[1] Standard Errors assume that the covariance matrix of the errors is correctly specified.\n",
       "\"\"\""
      ]
     },
     "execution_count": 58,
     "metadata": {},
     "output_type": "execute_result"
    }
   ],
   "source": [
    "(smf.ols('hindex ~ letter_int + scientific_age + race_main', data=authors_df[(authors_df['community'] == 'ML')\n",
    "                                                                                ])\n",
    "                                                                               #& (authors_df['influentialCitationCount_sch'] >= 200)])\n",
    " .fit().summary())"
   ]
  },
  {
   "cell_type": "code",
   "execution_count": null,
   "metadata": {},
   "outputs": [],
   "source": []
  },
  {
   "cell_type": "code",
   "execution_count": null,
   "metadata": {},
   "outputs": [],
   "source": []
  },
  {
   "cell_type": "code",
   "execution_count": null,
   "metadata": {},
   "outputs": [],
   "source": []
  },
  {
   "cell_type": "code",
   "execution_count": null,
   "metadata": {},
   "outputs": [],
   "source": []
  },
  {
   "cell_type": "code",
   "execution_count": null,
   "metadata": {},
   "outputs": [],
   "source": []
  },
  {
   "cell_type": "code",
   "execution_count": null,
   "metadata": {},
   "outputs": [],
   "source": []
  },
  {
   "cell_type": "code",
   "execution_count": 421,
   "metadata": {},
   "outputs": [],
   "source": [
    "import numpy as np"
   ]
  },
  {
   "cell_type": "code",
   "execution_count": 30,
   "metadata": {},
   "outputs": [
    {
     "ename": "NameError",
     "evalue": "name 'smf' is not defined",
     "output_type": "error",
     "traceback": [
      "\u001b[0;31m---------------------------------------------------------------------------\u001b[0m",
      "\u001b[0;31mNameError\u001b[0m                                 Traceback (most recent call last)",
      "\u001b[0;32m<ipython-input-30-302f544d22ed>\u001b[0m in \u001b[0;36m<module>\u001b[0;34m\u001b[0m\n\u001b[0;32m----> 1\u001b[0;31m (smf.ols('influentialCitationCount_sch ~  scinetific_age_sch + race_main', data=q[(q['community'] == 'TCS')\n\u001b[0m\u001b[1;32m      2\u001b[0m                                                                                & (q['n_pub_sch'] >= 0)])\n\u001b[1;32m      3\u001b[0m  .fit().summary())\n",
      "\u001b[0;31mNameError\u001b[0m: name 'smf' is not defined"
     ]
    }
   ],
   "source": [
    "(smf.ols('influentialCitationCount_sch ~  scinetific_age_sch + race_main', data=q[(q['community'] == 'TCS')\n",
    "                                                                               & (q['n_pub_sch'] >= 0)])\n",
    " .fit().summary())"
   ]
  },
  {
   "cell_type": "code",
   "execution_count": null,
   "metadata": {},
   "outputs": [],
   "source": []
  },
  {
   "cell_type": "code",
   "execution_count": 430,
   "metadata": {},
   "outputs": [
    {
     "data": {
      "text/plain": [
       "<seaborn.axisgrid.FacetGrid at 0x1472144f0>"
      ]
     },
     "execution_count": 430,
     "metadata": {},
     "output_type": "execute_result"
    },
    {
     "data": {
      "image/png": "[encoded data removed]",
      "text/plain": [
       "<Figure size 360x360 with 1 Axes>"
      ]
     },
     "metadata": {
      "needs_background": "light"
     },
     "output_type": "display_data"
    }
   ],
   "source": [
    "mask= q['n_pubs_sch'].isna()\n",
    "sns.lmplot(x='n_pub', y='n_pubs_sch', data=q)"
   ]
  },
  {
   "cell_type": "code",
   "execution_count": 426,
   "metadata": {},
   "outputs": [
    {
     "name": "stderr",
     "output_type": "stream",
     "text": [
      "/Users/shlomi/.pyenv/versions/3.8.3/lib/python3.8/site-packages/seaborn/_decorators.py:36: FutureWarning: Pass the following variables as keyword args: x, y. From version 0.12, the only valid positional argument will be `data`, and passing other arguments without an explicit keyword will result in an error or misinterpretation.\n",
      "  warnings.warn(\n"
     ]
    },
    {
     "ename": "TypeError",
     "evalue": "'NoneType' object is not subscriptable",
     "output_type": "error",
     "traceback": [
      "\u001b[0;31m---------------------------------------------------------------------------\u001b[0m",
      "\u001b[0;31mTypeError\u001b[0m                                 Traceback (most recent call last)",
      "\u001b[0;32m<ipython-input-426-1edb43197acc>\u001b[0m in \u001b[0;36m<module>\u001b[0;34m\u001b[0m\n\u001b[0;32m----> 1\u001b[0;31m \u001b[0msns\u001b[0m\u001b[0;34m.\u001b[0m\u001b[0mlmplot\u001b[0m\u001b[0;34m(\u001b[0m\u001b[0mq\u001b[0m\u001b[0;34m[\u001b[0m\u001b[0;34m'n_pub'\u001b[0m\u001b[0;34m]\u001b[0m\u001b[0;34m,\u001b[0m \u001b[0mq\u001b[0m\u001b[0;34m[\u001b[0m\u001b[0;34m'n_pubs_sch'\u001b[0m\u001b[0;34m]\u001b[0m\u001b[0;34m)\u001b[0m\u001b[0;34m\u001b[0m\u001b[0;34m\u001b[0m\u001b[0m\n\u001b[0m",
      "\u001b[0;32m~/.pyenv/versions/3.8.3/lib/python3.8/site-packages/seaborn/_decorators.py\u001b[0m in \u001b[0;36minner_f\u001b[0;34m(*args, **kwargs)\u001b[0m\n\u001b[1;32m     44\u001b[0m             )\n\u001b[1;32m     45\u001b[0m         \u001b[0mkwargs\u001b[0m\u001b[0;34m.\u001b[0m\u001b[0mupdate\u001b[0m\u001b[0;34m(\u001b[0m\u001b[0;34m{\u001b[0m\u001b[0mk\u001b[0m\u001b[0;34m:\u001b[0m \u001b[0marg\u001b[0m \u001b[0;32mfor\u001b[0m \u001b[0mk\u001b[0m\u001b[0;34m,\u001b[0m \u001b[0marg\u001b[0m \u001b[0;32min\u001b[0m \u001b[0mzip\u001b[0m\u001b[0;34m(\u001b[0m\u001b[0msig\u001b[0m\u001b[0;34m.\u001b[0m\u001b[0mparameters\u001b[0m\u001b[0;34m,\u001b[0m \u001b[0margs\u001b[0m\u001b[0;34m)\u001b[0m\u001b[0;34m}\u001b[0m\u001b[0;34m)\u001b[0m\u001b[0;34m\u001b[0m\u001b[0;34m\u001b[0m\u001b[0m\n\u001b[0;32m---> 46\u001b[0;31m         \u001b[0;32mreturn\u001b[0m \u001b[0mf\u001b[0m\u001b[0;34m(\u001b[0m\u001b[0;34m**\u001b[0m\u001b[0mkwargs\u001b[0m\u001b[0;34m)\u001b[0m\u001b[0;34m\u001b[0m\u001b[0;34m\u001b[0m\u001b[0m\n\u001b[0m\u001b[1;32m     47\u001b[0m     \u001b[0;32mreturn\u001b[0m \u001b[0minner_f\u001b[0m\u001b[0;34m\u001b[0m\u001b[0;34m\u001b[0m\u001b[0m\n\u001b[1;32m     48\u001b[0m \u001b[0;34m\u001b[0m\u001b[0m\n",
      "\u001b[0;32m~/.pyenv/versions/3.8.3/lib/python3.8/site-packages/seaborn/regression.py\u001b[0m in \u001b[0;36mlmplot\u001b[0;34m(x, y, data, hue, col, row, palette, col_wrap, height, aspect, markers, sharex, sharey, hue_order, col_order, row_order, legend, legend_out, x_estimator, x_bins, x_ci, scatter, fit_reg, ci, n_boot, units, seed, order, logistic, lowess, robust, logx, x_partial, y_partial, truncate, x_jitter, y_jitter, scatter_kws, line_kws, size)\u001b[0m\n\u001b[1;32m    583\u001b[0m     \u001b[0mneed_cols\u001b[0m \u001b[0;34m=\u001b[0m \u001b[0;34m[\u001b[0m\u001b[0mx\u001b[0m\u001b[0;34m,\u001b[0m \u001b[0my\u001b[0m\u001b[0;34m,\u001b[0m \u001b[0mhue\u001b[0m\u001b[0;34m,\u001b[0m \u001b[0mcol\u001b[0m\u001b[0;34m,\u001b[0m \u001b[0mrow\u001b[0m\u001b[0;34m,\u001b[0m \u001b[0munits\u001b[0m\u001b[0;34m,\u001b[0m \u001b[0mx_partial\u001b[0m\u001b[0;34m,\u001b[0m \u001b[0my_partial\u001b[0m\u001b[0;34m]\u001b[0m\u001b[0;34m\u001b[0m\u001b[0;34m\u001b[0m\u001b[0m\n\u001b[1;32m    584\u001b[0m     \u001b[0mcols\u001b[0m \u001b[0;34m=\u001b[0m \u001b[0mnp\u001b[0m\u001b[0;34m.\u001b[0m\u001b[0munique\u001b[0m\u001b[0;34m(\u001b[0m\u001b[0;34m[\u001b[0m\u001b[0ma\u001b[0m \u001b[0;32mfor\u001b[0m \u001b[0ma\u001b[0m \u001b[0;32min\u001b[0m \u001b[0mneed_cols\u001b[0m \u001b[0;32mif\u001b[0m \u001b[0ma\u001b[0m \u001b[0;32mis\u001b[0m \u001b[0;32mnot\u001b[0m \u001b[0;32mNone\u001b[0m\u001b[0;34m]\u001b[0m\u001b[0;34m)\u001b[0m\u001b[0;34m.\u001b[0m\u001b[0mtolist\u001b[0m\u001b[0;34m(\u001b[0m\u001b[0;34m)\u001b[0m\u001b[0;34m\u001b[0m\u001b[0;34m\u001b[0m\u001b[0m\n\u001b[0;32m--> 585\u001b[0;31m     \u001b[0mdata\u001b[0m \u001b[0;34m=\u001b[0m \u001b[0mdata\u001b[0m\u001b[0;34m[\u001b[0m\u001b[0mcols\u001b[0m\u001b[0;34m]\u001b[0m\u001b[0;34m\u001b[0m\u001b[0;34m\u001b[0m\u001b[0m\n\u001b[0m\u001b[1;32m    586\u001b[0m \u001b[0;34m\u001b[0m\u001b[0m\n\u001b[1;32m    587\u001b[0m     \u001b[0;31m# Initialize the grid\u001b[0m\u001b[0;34m\u001b[0m\u001b[0;34m\u001b[0m\u001b[0;34m\u001b[0m\u001b[0m\n",
      "\u001b[0;31mTypeError\u001b[0m: 'NoneType' object is not subscriptable"
     ]
    }
   ],
   "source": [
    "sns.lmplot(q['n_pub'], q['n_pubs_sch'])"
   ]
  },
  {
   "cell_type": "code",
   "execution_count": 404,
   "metadata": {},
   "outputs": [
    {
     "data": {
      "text/html": [
       "<table class=\"simpletable\">\n",
       "<caption>OLS Regression Results</caption>\n",
       "<tr>\n",
       "  <th>Dep. Variable:</th>    <td>influentialCitationCount_sch</td> <th>  R-squared:         </th> <td>   0.020</td>\n",
       "</tr>\n",
       "<tr>\n",
       "  <th>Model:</th>                         <td>OLS</td>             <th>  Adj. R-squared:    </th> <td>   0.016</td>\n",
       "</tr>\n",
       "<tr>\n",
       "  <th>Method:</th>                   <td>Least Squares</td>        <th>  F-statistic:       </th> <td>   4.769</td>\n",
       "</tr>\n",
       "<tr>\n",
       "  <th>Date:</th>                   <td>Mon, 07 Dec 2020</td>       <th>  Prob (F-statistic):</th>  <td>0.00891</td>\n",
       "</tr>\n",
       "<tr>\n",
       "  <th>Time:</th>                       <td>21:41:05</td>           <th>  Log-Likelihood:    </th> <td> -3922.1</td>\n",
       "</tr>\n",
       "<tr>\n",
       "  <th>No. Observations:</th>            <td>   473</td>            <th>  AIC:               </th> <td>   7850.</td>\n",
       "</tr>\n",
       "<tr>\n",
       "  <th>Df Residuals:</th>                <td>   470</td>            <th>  BIC:               </th> <td>   7863.</td>\n",
       "</tr>\n",
       "<tr>\n",
       "  <th>Df Model:</th>                    <td>     2</td>            <th>                     </th>     <td> </td>   \n",
       "</tr>\n",
       "<tr>\n",
       "  <th>Covariance Type:</th>            <td>nonrobust</td>          <th>                     </th>     <td> </td>   \n",
       "</tr>\n",
       "</table>\n",
       "<table class=\"simpletable\">\n",
       "<tr>\n",
       "         <td></td>           <th>coef</th>     <th>std err</th>      <th>t</th>      <th>P>|t|</th>  <th>[0.025</th>    <th>0.975]</th>  \n",
       "</tr>\n",
       "<tr>\n",
       "  <th>Intercept</th>      <td>  200.1598</td> <td>  179.608</td> <td>    1.114</td> <td> 0.266</td> <td> -152.774</td> <td>  553.094</td>\n",
       "</tr>\n",
       "<tr>\n",
       "  <th>letter_val</th>     <td>  196.8299</td> <td>  156.221</td> <td>    1.260</td> <td> 0.208</td> <td> -110.147</td> <td>  503.807</td>\n",
       "</tr>\n",
       "<tr>\n",
       "  <th>scientific_age</th> <td>   17.5422</td> <td>    6.047</td> <td>    2.901</td> <td> 0.004</td> <td>    5.660</td> <td>   29.424</td>\n",
       "</tr>\n",
       "</table>\n",
       "<table class=\"simpletable\">\n",
       "<tr>\n",
       "  <th>Omnibus:</th>       <td>435.688</td> <th>  Durbin-Watson:     </th> <td>   1.860</td> \n",
       "</tr>\n",
       "<tr>\n",
       "  <th>Prob(Omnibus):</th> <td> 0.000</td>  <th>  Jarque-Bera (JB):  </th> <td>11519.479</td>\n",
       "</tr>\n",
       "<tr>\n",
       "  <th>Skew:</th>          <td> 4.050</td>  <th>  Prob(JB):          </th> <td>    0.00</td> \n",
       "</tr>\n",
       "<tr>\n",
       "  <th>Kurtosis:</th>      <td>25.779</td>  <th>  Cond. No.          </th> <td>    120.</td> \n",
       "</tr>\n",
       "</table><br/><br/>Notes:<br/>[1] Standard Errors assume that the covariance matrix of the errors is correctly specified."
      ],
      "text/plain": [
       "<class 'statsmodels.iolib.summary.Summary'>\n",
       "\"\"\"\n",
       "                                 OLS Regression Results                                 \n",
       "========================================================================================\n",
       "Dep. Variable:     influentialCitationCount_sch   R-squared:                       0.020\n",
       "Model:                                      OLS   Adj. R-squared:                  0.016\n",
       "Method:                           Least Squares   F-statistic:                     4.769\n",
       "Date:                          Mon, 07 Dec 2020   Prob (F-statistic):            0.00891\n",
       "Time:                                  21:41:05   Log-Likelihood:                -3922.1\n",
       "No. Observations:                           473   AIC:                             7850.\n",
       "Df Residuals:                               470   BIC:                             7863.\n",
       "Df Model:                                     2                                         \n",
       "Covariance Type:                      nonrobust                                         \n",
       "==================================================================================\n",
       "                     coef    std err          t      P>|t|      [0.025      0.975]\n",
       "----------------------------------------------------------------------------------\n",
       "Intercept        200.1598    179.608      1.114      0.266    -152.774     553.094\n",
       "letter_val       196.8299    156.221      1.260      0.208    -110.147     503.807\n",
       "scientific_age    17.5422      6.047      2.901      0.004       5.660      29.424\n",
       "==============================================================================\n",
       "Omnibus:                      435.688   Durbin-Watson:                   1.860\n",
       "Prob(Omnibus):                  0.000   Jarque-Bera (JB):            11519.479\n",
       "Skew:                           4.050   Prob(JB):                         0.00\n",
       "Kurtosis:                      25.779   Cond. No.                         120.\n",
       "==============================================================================\n",
       "\n",
       "Notes:\n",
       "[1] Standard Errors assume that the covariance matrix of the errors is correctly specified.\n",
       "\"\"\""
      ]
     },
     "execution_count": 404,
     "metadata": {},
     "output_type": "execute_result"
    }
   ],
   "source": [
    "(smf.ols('influentialCitationCount_sch ~ letter_val + scientific_age', data=q[(q['community'] == 'TCS')\n",
    "                                                                               & (q['n_pubs_sch'] >= 100)])\n",
    " .fit().summary())"
   ]
  },
  {
   "cell_type": "code",
   "execution_count": null,
   "metadata": {},
   "outputs": [],
   "source": []
  },
  {
   "cell_type": "code",
   "execution_count": null,
   "metadata": {},
   "outputs": [],
   "source": []
  },
  {
   "cell_type": "code",
   "execution_count": null,
   "metadata": {},
   "outputs": [],
   "source": []
  },
  {
   "cell_type": "code",
   "execution_count": null,
   "metadata": {},
   "outputs": [],
   "source": []
  },
  {
   "cell_type": "code",
   "execution_count": null,
   "metadata": {},
   "outputs": [],
   "source": []
  },
  {
   "cell_type": "code",
   "execution_count": 333,
   "metadata": {},
   "outputs": [
    {
     "name": "stderr",
     "output_type": "stream",
     "text": [
      "/Users/shlomi/.pyenv/versions/3.8.3/lib/python3.8/site-packages/seaborn/_decorators.py:36: FutureWarning: Pass the following variables as keyword args: x, y. From version 0.12, the only valid positional argument will be `data`, and passing other arguments without an explicit keyword will result in an error or misinterpretation.\n",
      "  warnings.warn(\n"
     ]
    },
    {
     "data": {
      "text/plain": [
       "<seaborn.axisgrid.FacetGrid at 0x159e46b20>"
      ]
     },
     "execution_count": 333,
     "metadata": {},
     "output_type": "execute_result"
    },
    {
     "data": {
      "image/png": "[encoded data removed]",
      "text/plain": [
       "<Figure size 360x360 with 1 Axes>"
      ]
     },
     "metadata": {
      "needs_background": "light"
     },
     "output_type": "display_data"
    }
   ],
   "source": [
    "sns.lmplot('letter_val', 'influentialCitationCount', data=q)"
   ]
  },
  {
   "cell_type": "code",
   "execution_count": 299,
   "metadata": {},
   "outputs": [
    {
     "data": {
      "text/plain": [
       "1335"
      ]
     },
     "execution_count": 299,
     "metadata": {},
     "output_type": "execute_result"
    }
   ],
   "source": [
    "len(all_authors)"
   ]
  },
  {
   "cell_type": "code",
   "execution_count": 296,
   "metadata": {},
   "outputs": [
    {
     "data": {
      "text/html": [
       "<div>\n",
       "<style scoped>\n",
       "    .dataframe tbody tr th:only-of-type {\n",
       "        vertical-align: middle;\n",
       "    }\n",
       "\n",
       "    .dataframe tbody tr th {\n",
       "        vertical-align: top;\n",
       "    }\n",
       "\n",
       "    .dataframe thead th {\n",
       "        text-align: right;\n",
       "    }\n",
       "</style>\n",
       "<table border=\"1\" class=\"dataframe\">\n",
       "  <thead>\n",
       "    <tr style=\"text-align: right;\">\n",
       "      <th></th>\n",
       "      <th>aliases</th>\n",
       "    </tr>\n",
       "    <tr>\n",
       "      <th>dblp_name</th>\n",
       "      <th></th>\n",
       "    </tr>\n",
       "  </thead>\n",
       "  <tbody>\n",
       "    <tr>\n",
       "      <th>Aaron Archer</th>\n",
       "      <td>[Aaron Archer, A Archer, Aaron K Archer]</td>\n",
       "    </tr>\n",
       "    <tr>\n",
       "      <th>Aaron Bernstein</th>\n",
       "      <td>[Aaron C Bernstein, A. Bernstein, Aaron Bernst...</td>\n",
       "    </tr>\n",
       "    <tr>\n",
       "      <th>Aaron Clauset</th>\n",
       "      <td>[A. Clauset, Aaron Clauset, Aaron J Clauset, A...</td>\n",
       "    </tr>\n",
       "    <tr>\n",
       "      <th>Aaron Cote</th>\n",
       "      <td>[Aaron S. Côté, Aaron Coté, Aaron Daniel Cote,...</td>\n",
       "    </tr>\n",
       "    <tr>\n",
       "      <th>Aaron Roth 0001</th>\n",
       "      <td>[Aaron Roth, Aaron Lyle Roth, A. L. Roth, A. R...</td>\n",
       "    </tr>\n",
       "    <tr>\n",
       "      <th>...</th>\n",
       "      <td>...</td>\n",
       "    </tr>\n",
       "    <tr>\n",
       "      <th>Zulfikar Ramzan</th>\n",
       "      <td>[Zulfikar Amin Ramzan]</td>\n",
       "    </tr>\n",
       "    <tr>\n",
       "      <th>Zvi Lotker</th>\n",
       "      <td>[]</td>\n",
       "    </tr>\n",
       "    <tr>\n",
       "      <th>Ákos Seress</th>\n",
       "      <td>[Ákos Attila Seress]</td>\n",
       "    </tr>\n",
       "    <tr>\n",
       "      <th>Éric Colin de Verdière</th>\n",
       "      <td>[Eric Colin De Verdière]</td>\n",
       "    </tr>\n",
       "    <tr>\n",
       "      <th>Éva Tardos</th>\n",
       "      <td>[Eva Tardos]</td>\n",
       "    </tr>\n",
       "  </tbody>\n",
       "</table>\n",
       "<p>1307 rows × 1 columns</p>\n",
       "</div>"
      ],
      "text/plain": [
       "                                                                  aliases\n",
       "dblp_name                                                                \n",
       "Aaron Archer                     [Aaron Archer, A Archer, Aaron K Archer]\n",
       "Aaron Bernstein         [Aaron C Bernstein, A. Bernstein, Aaron Bernst...\n",
       "Aaron Clauset           [A. Clauset, Aaron Clauset, Aaron J Clauset, A...\n",
       "Aaron Cote              [Aaron S. Côté, Aaron Coté, Aaron Daniel Cote,...\n",
       "Aaron Roth 0001         [Aaron Roth, Aaron Lyle Roth, A. L. Roth, A. R...\n",
       "...                                                                   ...\n",
       "Zulfikar Ramzan                                    [Zulfikar Amin Ramzan]\n",
       "Zvi Lotker                                                             []\n",
       "Ákos Seress                                          [Ákos Attila Seress]\n",
       "Éric Colin de Verdière                           [Eric Colin De Verdière]\n",
       "Éva Tardos                                                   [Eva Tardos]\n",
       "\n",
       "[1307 rows x 1 columns]"
      ]
     },
     "execution_count": 296,
     "metadata": {},
     "output_type": "execute_result"
    }
   ],
   "source": []
  }
 ],
 "metadata": {
  "kernelspec": {
   "display_name": "Python 3",
   "language": "python",
   "name": "python3"
  },
  "language_info": {
   "codemirror_mode": {
    "name": "ipython",
    "version": 3
   },
   "file_extension": ".py",
   "mimetype": "text/x-python",
   "name": "python",
   "nbconvert_exporter": "python",
   "pygments_lexer": "ipython3",
   "version": "3.7.5"
  }
 },
 "nbformat": 4,
 "nbformat_minor": 4
}
