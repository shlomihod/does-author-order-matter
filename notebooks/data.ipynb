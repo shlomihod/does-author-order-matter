{
 "cells": [
  {
   "cell_type": "markdown",
   "metadata": {},
   "source": [
    "# Data"
   ]
  },
  {
   "cell_type": "code",
   "execution_count": 1,
   "metadata": {},
   "outputs": [],
   "source": [
    "import sys\n",
    "sys.path.append('..')\n",
    "\n",
    "from src.data import make_paper_dataset, build_authors_df, scrape_google_scholar, enrich_author_df_with_scholarly\n",
    "\n",
    "DATA_PATH = '../data'"
   ]
  },
  {
   "cell_type": "code",
   "execution_count": 2,
   "metadata": {},
   "outputs": [],
   "source": [
    "# papers_df = make_paper_dataset(DATA_PATH)"
   ]
  },
  {
   "cell_type": "code",
   "execution_count": 3,
   "metadata": {},
   "outputs": [
    {
     "data": {
      "text/plain": [
       "conf\n",
       "FOCS    0.000000\n",
       "ICML    0.331555\n",
       "NIPS    1.000000\n",
       "STOC    0.000000\n",
       "Name: doi, dtype: float64"
      ]
     },
     "execution_count": 3,
     "metadata": {},
     "output_type": "execute_result"
    }
   ],
   "source": [
    "# papers_df.groupby('conf')['doi'].apply(lambda g: g.isna().mean())"
   ]
  },
  {
   "cell_type": "code",
   "execution_count": 4,
   "metadata": {},
   "outputs": [
    {
     "name": "stderr",
     "output_type": "stream",
     "text": [
      "/Users/shlomi/.local/lib/python3.8/site-packages/numpy/core/fromnumeric.py:3372: RuntimeWarning: Mean of empty slice.\n",
      "  return _methods._mean(a, axis=axis, dtype=dtype,\n"
     ]
    }
   ],
   "source": [
    "# authors_df = build_authors_df(papers_df)"
   ]
  },
  {
   "cell_type": "code",
   "execution_count": null,
   "metadata": {},
   "outputs": [],
   "source": [
    "# authors_with_co_df = authors_df[~authors_df['only_sing']]\n",
    "# scholarly_results = scrape_google_scholar(authors_with_co_df, with_tor_proxy=True)\n",
    "# authors_df = enrich_author_df_with_scholarly(scholarly_results, authors_df)\n",
    "# authors_df.to_json(DATA_PATH + '/authors_FOCS_ICML_NIPS_STOC_2000_2009.json')  # TODO: Refactor"
   ]
  },
  {
   "cell_type": "markdown",
   "metadata": {},
   "source": [
    "## Semantic Scholar"
   ]
  },
  {
   "cell_type": "code",
   "execution_count": null,
   "metadata": {},
   "outputs": [],
   "source": [
    "# import time\n",
    "\n",
    "import pandas as pd\n",
    "#import semanticscholar as sch\n",
    "#from tqdm.notebook import tqdm\n",
    "\n",
    "# SLEEP = 1\n",
    "# TIMEOUT = 10\n",
    "\n",
    "#papers_df = pd.read_json('../data/papers_FOCS_ICML_NIPS_STOC_2000_2009.json')\n",
    "#tcs_papers_df = papers_df[papers_df['community'] == 'TCS'].set_index('doi')\n",
    "\n",
    "\n",
    "#paper_results = {}\n",
    "#for doi in tqdm(missing_doi):\n",
    "#    paper = sch.paper(doi, timeout=TIMEOUT)\n",
    "#    if not paper:\n",
    "#        print(doi)\n",
    "#    paper_results[doi] = paper\n",
    "#    time.sleep(SLEEP)\n",
    "    \n",
    "#sch_tcs_papers_df = pd.DataFrame.from_dict(paper_results, orient='index')   \n",
    "\n",
    "#papers_df = pd.merge(papers_df,\n",
    "#                     sch_tcs_papers_df.add_suffix('_sch'),\n",
    "#                     how='left', left_on='doi', right_index=True)\n",
    "#papers_df.to_json('../data/papers_FOCS_ICML_NIPS_STOC_2000_2009_with_sch.json')"
   ]
  },
  {
   "cell_type": "code",
   "execution_count": 10,
   "metadata": {},
   "outputs": [],
   "source": [
    "import string\n",
    "import numpy as np\n",
    "import pandas as pd\n",
    "\n",
    "papers_df = pd.read_json('../data/papers_FOCS_ICML_NIPS_STOC_2000_2009_with_sch.json')"
   ]
  },
  {
   "cell_type": "code",
   "execution_count": 12,
   "metadata": {},
   "outputs": [
    {
     "data": {
      "text/plain": [
       "conf\n",
       "FOCS    0.001439\n",
       "ICML    1.000000\n",
       "NIPS    1.000000\n",
       "STOC    0.000000\n",
       "Name: paperId_sch, dtype: float64"
      ]
     },
     "execution_count": 12,
     "metadata": {},
     "output_type": "execute_result"
    }
   ],
   "source": [
    "papers_df.groupby('conf')['paperId_sch'].apply(lambda g: g.isna().mean())"
   ]
  },
  {
   "cell_type": "code",
   "execution_count": 13,
   "metadata": {},
   "outputs": [
    {
     "data": {
      "text/plain": [
       "1516"
      ]
     },
     "execution_count": 13,
     "metadata": {},
     "output_type": "execute_result"
    }
   ],
   "source": [
    "len(papers_df[(~papers_df['authors_sch'].isna())])"
   ]
  },
  {
   "cell_type": "code",
   "execution_count": 14,
   "metadata": {},
   "outputs": [
    {
     "data": {
      "text/html": [
       "<div>\n",
       "<style scoped>\n",
       "    .dataframe tbody tr th:only-of-type {\n",
       "        vertical-align: middle;\n",
       "    }\n",
       "\n",
       "    .dataframe tbody tr th {\n",
       "        vertical-align: top;\n",
       "    }\n",
       "\n",
       "    .dataframe thead th {\n",
       "        text-align: right;\n",
       "    }\n",
       "</style>\n",
       "<table border=\"1\" class=\"dataframe\">\n",
       "  <thead>\n",
       "    <tr style=\"text-align: right;\">\n",
       "      <th></th>\n",
       "      <th>authors</th>\n",
       "      <th>title</th>\n",
       "      <th>venue</th>\n",
       "      <th>pages</th>\n",
       "      <th>year</th>\n",
       "      <th>key</th>\n",
       "      <th>doi</th>\n",
       "      <th>ee</th>\n",
       "      <th>url</th>\n",
       "      <th>publisher</th>\n",
       "      <th>...</th>\n",
       "      <th>is_publisher_licensed_sch</th>\n",
       "      <th>paperId_sch</th>\n",
       "      <th>references_sch</th>\n",
       "      <th>title_sch</th>\n",
       "      <th>topics_sch</th>\n",
       "      <th>url_sch</th>\n",
       "      <th>venue_sch</th>\n",
       "      <th>year_sch</th>\n",
       "      <th>author_letter_int</th>\n",
       "      <th>avg_author_letter_int</th>\n",
       "    </tr>\n",
       "  </thead>\n",
       "  <tbody>\n",
       "    <tr>\n",
       "      <th>610</th>\n",
       "      <td>[Mihai Patrascu]</td>\n",
       "      <td>Succincter.</td>\n",
       "      <td>FOCS</td>\n",
       "      <td>305-313</td>\n",
       "      <td>2008</td>\n",
       "      <td>conf/focs/Patrascu08</td>\n",
       "      <td>10.1109/FOCS.2008.83</td>\n",
       "      <td>https://doi.org/10.1109/FOCS.2008.83</td>\n",
       "      <td>https://dblp.org/rec/conf/focs/Patrascu08</td>\n",
       "      <td>NaN</td>\n",
       "      <td>...</td>\n",
       "      <td>NaN</td>\n",
       "      <td>None</td>\n",
       "      <td>None</td>\n",
       "      <td>None</td>\n",
       "      <td>None</td>\n",
       "      <td>None</td>\n",
       "      <td>None</td>\n",
       "      <td>NaN</td>\n",
       "      <td>[15]</td>\n",
       "      <td>15.0</td>\n",
       "    </tr>\n",
       "  </tbody>\n",
       "</table>\n",
       "<p>1 rows × 37 columns</p>\n",
       "</div>"
      ],
      "text/plain": [
       "              authors        title venue    pages  year                   key  \\\n",
       "610  [Mihai Patrascu]  Succincter.  FOCS  305-313  2008  conf/focs/Patrascu08   \n",
       "\n",
       "                      doi                                    ee  \\\n",
       "610  10.1109/FOCS.2008.83  https://doi.org/10.1109/FOCS.2008.83   \n",
       "\n",
       "                                           url  publisher  ...  \\\n",
       "610  https://dblp.org/rec/conf/focs/Patrascu08        NaN  ...   \n",
       "\n",
       "    is_publisher_licensed_sch paperId_sch  references_sch  title_sch  \\\n",
       "610                       NaN        None            None       None   \n",
       "\n",
       "    topics_sch url_sch  venue_sch year_sch author_letter_int  \\\n",
       "610       None    None       None      NaN              [15]   \n",
       "\n",
       "    avg_author_letter_int  \n",
       "610                  15.0  \n",
       "\n",
       "[1 rows x 37 columns]"
      ]
     },
     "execution_count": 14,
     "metadata": {},
     "output_type": "execute_result"
    }
   ],
   "source": [
    "papers_df[(papers_df['conf'] == 'FOCS') & papers_df['paperId_sch'].isna()]"
   ]
  },
  {
   "cell_type": "code",
   "execution_count": 15,
   "metadata": {},
   "outputs": [],
   "source": [
    "all_authors = set.union(*papers_df[~papers_df['paperId_sch'].isna()]['authors_sch'].apply(lambda authors: {author['authorId']\n",
    "                                                                                  for author in authors}))"
   ]
  },
  {
   "cell_type": "code",
   "execution_count": null,
   "metadata": {},
   "outputs": [],
   "source": [
    "#author_results = {}"
   ]
  },
  {
   "cell_type": "code",
   "execution_count": null,
   "metadata": {},
   "outputs": [],
   "source": [
    "# for author_id in tqdm(all_authors - set(author_results.keys())):\n",
    "#    author = sch.author(author_id, timeout=TIMEOUT)\n",
    "#    if not author:\n",
    "#        print(author_id)\n",
    "#    else:\n",
    "#        author_results[author_id] = author\n",
    "#    time.sleep(SLEEP)"
   ]
  },
  {
   "cell_type": "code",
   "execution_count": null,
   "metadata": {},
   "outputs": [],
   "source": [
    "#with open('../data/authors_FOCS_ICML_NIPS_STOC_2000_2009_with_sch.pckl', 'wb') as f:\n",
    "#    pickle.dump(author_results, f)"
   ]
  },
  {
   "cell_type": "code",
   "execution_count": null,
   "metadata": {},
   "outputs": [],
   "source": []
  },
  {
   "cell_type": "code",
   "execution_count": 16,
   "metadata": {},
   "outputs": [],
   "source": [
    "import pickle\n",
    "\n",
    "authors_df = pd.read_json('../data/authors_FOCS_ICML_NIPS_STOC_2000_2009.json')\n",
    "with open('../data/authors_FOCS_ICML_NIPS_STOC_2000_2009_with_sch.pckl', 'rb') as f:\n",
    "    author_results = pickle.load(f)"
   ]
  },
  {
   "cell_type": "code",
   "execution_count": 17,
   "metadata": {},
   "outputs": [],
   "source": [
    "def unify_sch_author_by_dblp(author_group):\n",
    "    return pd.Series({'aliases': list(set.union(*map(set, author_group['aliases']))),\n",
    "                      'authorId': list(author_group['authorId']),\n",
    "                      'influentialCitationCount': sum(a for a in author_group['influentialCitationCount']),\n",
    "                      'papers': sum(author_group['papers'], []),\n",
    "                      'name': list(set(author_group['name'])),\n",
    "                      'url': list(author_group['authorId'])})\n",
    "\n",
    "\n",
    "authors_sch2dblp = {}\n",
    "for _, paper in papers_df[~papers_df['authors_sch'].isna()].iterrows():\n",
    "    authors_sch2dblp.update(dict(zip((author['authorId'] for author in paper['authors_sch']),\n",
    "                                     paper['authors'])))\n",
    "sch_tcs_authors_df = pd.DataFrame.from_dict(author_results, orient='index')\n",
    "sch_tcs_authors_df['dblp_name'] = pd.Series(authors_sch2dblp)\n",
    "assert (sch_tcs_authors_df.index == sch_tcs_authors_df['authorId']).all()\n",
    "sch_tcs_authors_df = sch_tcs_authors_df.set_index('dblp_name')\n",
    "\n",
    "\n",
    "sch_tcs_authors_df = pd.DataFrame.from_dict(author_results, orient='index')\n",
    "sch_tcs_authors_df['dblp_name'] = pd.Series(authors_sch2dblp)\n",
    "\n",
    "sch_tcs_authors_df = sch_tcs_authors_df.groupby('dblp_name').apply(unify_sch_author_by_dblp)\n",
    "sch_tcs_authors_df['n_pub'] = sch_tcs_authors_df['papers'].apply(len)\n",
    "sch_tcs_authors_df['scientific_birth_year'] = sch_tcs_authors_df['papers'].apply(lambda r: min(p['year'] for p in r if p['year']))\n",
    "sch_tcs_authors_df['scientific_age'] = 2021 - sch_tcs_authors_df['scientific_birth_year']\n",
    "\n",
    "sch_tcs_authors_df['annual_productiviy'] = sch_tcs_authors_df['n_pub'] / sch_tcs_authors_df['scientific_birth_year']\n",
    "\n",
    "authors_df = pd.merge(authors_df,\n",
    "             sch_tcs_authors_df.add_suffix('_sch'),\n",
    "             how='left', left_index=True, right_index=True)"
   ]
  },
  {
   "cell_type": "code",
   "execution_count": 18,
   "metadata": {},
   "outputs": [
    {
     "data": {
      "text/plain": [
       "5422"
      ]
     },
     "execution_count": 18,
     "metadata": {},
     "output_type": "execute_result"
    }
   ],
   "source": [
    "len(authors_df)"
   ]
  },
  {
   "cell_type": "code",
   "execution_count": 19,
   "metadata": {},
   "outputs": [
    {
     "name": "stderr",
     "output_type": "stream",
     "text": [
      "Using TensorFlow backend.\n"
     ]
    }
   ],
   "source": [
    "from nameparser import HumanName\n",
    "from ethnicolr import census_ln, pred_census_ln, pred_wiki_name, pred_wiki_ln"
   ]
  },
  {
   "cell_type": "code",
   "execution_count": 20,
   "metadata": {},
   "outputs": [],
   "source": [
    "from nameparser import HumanName\n",
    "\n",
    "authors_df = pd.merge(authors_df, authors_df['real_name'].apply(lambda r: HumanName(r)).apply(lambda name: pd.Series({'first_name': name.first,\n",
    "                                                                           'middle_name': name.middle,\n",
    "                                                                           'last_name': name.last})),\n",
    "             how='left', left_index=True, right_index=True)"
   ]
  },
  {
   "cell_type": "code",
   "execution_count": null,
   "metadata": {},
   "outputs": [],
   "source": [
    "from ethnicolr import pred_wiki_name\n",
    "authors_df = pred_wiki_name(authors_df, 'last_name', 'first_name')\n",
    "authors_df['race_perhaps'] = authors_df['race'].str.split(',').str[0]"
   ]
  },
  {
   "cell_type": "code",
   "execution_count": 43,
   "metadata": {},
   "outputs": [],
   "source": [
    "# authors_df.to_json('../data/authors_FOCS_ICML_NIPS_STOC_2000_2009_with_sch.json')"
   ]
  },
  {
   "cell_type": "code",
   "execution_count": 37,
   "metadata": {},
   "outputs": [],
   "source": [
    "# import gender_guesser.detector as gender\n",
    "\n",
    "# gender_detector = gender.Detector()\n",
    "# authors_df['last_name'].apply(gender_detector.get_gender)\n",
    "# authors_df['perhaps_gender']"
   ]
  }
 ],
 "metadata": {
  "kernelspec": {
   "display_name": "Python 3",
   "language": "python",
   "name": "python3"
  },
  "language_info": {
   "codemirror_mode": {
    "name": "ipython",
    "version": 3
   },
   "file_extension": ".py",
   "mimetype": "text/x-python",
   "name": "python",
   "nbconvert_exporter": "python",
   "pygments_lexer": "ipython3",
   "version": "3.7.5"
  }
 },
 "nbformat": 4,
 "nbformat_minor": 4
}
