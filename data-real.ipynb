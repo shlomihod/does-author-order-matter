{
 "cells": [
  {
   "cell_type": "markdown",
   "metadata": {},
   "source": [
    "# Data"
   ]
  },
  {
   "cell_type": "code",
   "execution_count": 102,
   "metadata": {},
   "outputs": [
    {
     "name": "stdout",
     "output_type": "stream",
     "text": [
      "The autoreload extension is already loaded. To reload it, use:\n",
      "  %reload_ext autoreload\n"
     ]
    }
   ],
   "source": [
    "%load_ext autoreload\n",
    "%autoreload 2\n",
    "\n",
    "%matplotlib inline\n",
    "\n",
    "import sys\n",
    "sys.path.append('../src')\n",
    "\n",
    "from src.data import make_paper_dataset, build_authors_df, scrape_google_scholar, enrich_author_df_with_scholarly\n",
    "\n",
    "DATA_PATH = '../data'"
   ]
  },
  {
   "cell_type": "code",
   "execution_count": 2,
   "metadata": {},
   "outputs": [],
   "source": [
    "papers_df = make_paper_dataset(DATA_PATH)\n",
    "authors_df = build_authors_df(papers_df)\n",
    "authors_with_co_df = authors_df[~authors_df['only_sing']]\n",
    "scholarly_results = scrape_google_scholar(authors_with_co_df, with_tor_proxy=True)\n",
    "authors_df = enrich_author_df_with_scholarly(scholarly_results, authors_df)\n",
    "authors_df.to_json(DATA_PATH + '/authors_FOCS_ICML_NIPS_STOC_2000_2009.json')  # TODO: Refactor"
   ]
  }
 ],
 "metadata": {
  "kernelspec": {
   "display_name": "Python 3",
   "language": "python",
   "name": "python3"
  },
  "language_info": {
   "codemirror_mode": {
    "name": "ipython",
    "version": 3
   },
   "file_extension": ".py",
   "mimetype": "text/x-python",
   "name": "python",
   "nbconvert_exporter": "python",
   "pygments_lexer": "ipython3",
   "version": "3.8.3"
  }
 },
 "nbformat": 4,
 "nbformat_minor": 4
}
