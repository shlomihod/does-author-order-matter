{
  "nbformat": 4,
  "nbformat_minor": 0,
  "metadata": {
    "colab": {
      "name": "does-author-order-matter",
      "provenance": [],
      "collapsed_sections": [],
      "mount_file_id": "19laBp1Go0A76CCHOQUJSvGq6D1d7kNTX",
      "authorship_tag": "ABX9TyMZ+y7VFhHvA0/refjQVMyn",
      "include_colab_link": true
    },
    "kernelspec": {
      "display_name": "Python 3",
      "name": "python3"
    }
  },
  "cells": [
    {
      "cell_type": "markdown",
      "metadata": {
        "id": "view-in-github",
        "colab_type": "text"
      },
      "source": [
        "<a href=\"https://colab.research.google.com/github/shlomihod/does-author-order-matter/blob/main/data.ipynb\" target=\"_parent\"><img src=\"https://colab.research.google.com/assets/colab-badge.svg\" alt=\"Open In Colab\"/></a>"
      ]
    },
    {
      "cell_type": "markdown",
      "metadata": {
        "id": "ttZNb889KCte"
      },
      "source": [
        "# Does Author Order Matter?\n",
        "\n",
        "- [ ] Better data management (sqlite?)\n",
        "- [ ] `author_d`, h-index, onset, window, %first\n",
        "- [ ] which disciplines are ordered\n",
        "- [ ] plots\n"
      ]
    },
    {
      "cell_type": "code",
      "metadata": {
        "colab": {
          "background_save": true,
          "base_uri": "https://localhost:8080/"
        },
        "id": "cyBbEU9MtN0k",
        "outputId": "7af9a737-ff39-4889-e52b-0d87e39018e6"
      },
      "source": [
        "if True:\n",
        "    !pip install scholarmetrics\n",
        "    !wget https://originalstatic.aminer.cn/misc/dblp.v12.7z\n",
        "    !7z x dblp.v12.7z\n",
        "    !npm install -g json2csv\n",
        "    !json2csv -i dblp.v12.json -o dblp.v12.csv"
      ],
      "execution_count": null,
      "outputs": [
        {
          "output_type": "stream",
          "text": [
            "Collecting scholarmetrics\n",
            "  Downloading https://files.pythonhosted.org/packages/28/7d/e5a5bf57b4a9e7b05c8b9c4432cebc88bcbf04366cffc54a3380af6ebdf8/scholarmetrics-0.2.1.tar.gz\n",
            "Collecting pbr\n",
            "  Using cached https://files.pythonhosted.org/packages/fb/48/69046506f6ac61c1eaa9a0d42d22d54673b69e176d30ca98e3f61513e980/pbr-5.5.1-py2.py3-none-any.whl\n",
            "Requirement already satisfied: setuptools in /usr/local/lib/python3.6/dist-packages (from scholarmetrics) (50.3.2)\n",
            "Building wheels for collected packages: scholarmetrics\n",
            "  Building wheel for scholarmetrics (setup.py) ... \u001b[?25l\u001b[?25hdone\n",
            "  Created wheel for scholarmetrics: filename=scholarmetrics-0.2.1-py2.py3-none-any.whl size=6021 sha256=c7eb19a928e6598fa47b91a4ba465561e6b9702462874640790dae59358b8c09\n",
            "  Stored in directory: /root/.cache/pip/wheels/a8/c7/b1/f9a40af6bf012ed8d255a12092f5508727213ccac2b013f5c7\n",
            "Successfully built scholarmetrics\n",
            "Installing collected packages: pbr, scholarmetrics\n",
            "Successfully installed pbr-5.5.1 scholarmetrics-0.2.1\n",
            "--2020-12-02 00:57:29--  https://originalstatic.aminer.cn/misc/dblp.v12.7z\n",
            "Resolving originalstatic.aminer.cn (originalstatic.aminer.cn)... 40.73.3.16\n",
            "Connecting to originalstatic.aminer.cn (originalstatic.aminer.cn)|40.73.3.16|:443... connected.\n",
            "HTTP request sent, awaiting response... 200 OK\n",
            "Length: 2727161612 (2.5G) [application/x-7z-compressed]\n",
            "Saving to: ‘dblp.v12.7z’\n",
            "\n",
            "dblp.v12.7z         100%[===================>]   2.54G  8.49MB/s    in 5m 11s  \n",
            "\n",
            "2020-12-02 01:02:43 (8.36 MB/s) - ‘dblp.v12.7z’ saved [2727161612/2727161612]\n",
            "\n",
            "\n",
            "7-Zip [64] 16.02 : Copyright (c) 1999-2016 Igor Pavlov : 2016-05-21\n",
            "p7zip Version 16.02 (locale=en_US.UTF-8,Utf16=on,HugeFiles=on,64 bits,2 CPUs Intel(R) Xeon(R) CPU @ 2.00GHz (50653),ASM,AES-NI)\n",
            "\n",
            "Scanning the drive for archives:\n",
            "  0M Scan\b\b\b\b\b\b\b\b\b         \b\b\b\b\b\b\b\b\b1 file, 2727161612 bytes (2601 MiB)\n",
            "\n",
            "Extracting archive: dblp.v12.7z\n",
            "--\n",
            "Path = dblp.v12.7z\n",
            "Type = 7z\n",
            "Physical Size = 2727161612\n",
            "Headers Size = 130\n",
            "Method = LZMA2:25\n",
            "Solid = -\n",
            "Blocks = 1\n",
            "\n",
            "  0%\b\b\b\b    \b\b\b\b  0% - dblp.v12.json\b\b\b\b\b\b\b\b\b\b\b\b\b\b\b\b\b\b\b\b                    \b\b\b\b\b\b\b\b\b\b\b\b\b\b\b\b\b\b\b\b  1% - dblp.v12.json\b\b\b\b\b\b\b\b\b\b\b\b\b\b\b\b\b\b\b\b                    \b\b\b\b\b\b\b\b\b\b\b\b\b\b\b\b\b\b\b\b  2% - dblp.v12.json\b\b\b\b\b\b\b\b\b\b\b\b\b\b\b\b\b\b\b\b                    \b\b\b\b\b\b\b\b\b\b\b\b\b\b\b\b\b\b\b\b  3% - dblp.v12.json\b\b\b\b\b\b\b\b\b\b\b\b\b\b\b\b\b\b\b\b                    \b\b\b\b\b\b\b\b\b\b\b\b\b\b\b\b\b\b\b\b  4% - dblp.v12.json\b\b\b\b\b\b\b\b\b\b\b\b\b\b\b\b\b\b\b\b                    \b\b\b\b\b\b\b\b\b\b\b\b\b\b\b\b\b\b\b\b  5% - dblp.v12.json\b\b\b\b\b\b\b\b\b\b\b\b\b\b\b\b\b\b\b\b                    \b\b\b\b\b\b\b\b\b\b\b\b\b\b\b\b\b\b\b\b  6% - dblp.v12.json\b\b\b\b\b\b\b\b\b\b\b\b\b\b\b\b\b\b\b\b                    \b\b\b\b\b\b\b\b\b\b\b\b\b\b\b\b\b\b\b\b  7% - dblp.v12.json\b\b\b\b\b\b\b\b\b\b\b\b\b\b\b\b\b\b\b\b                    \b\b\b\b\b\b\b\b\b\b\b\b\b\b\b\b\b\b\b\b  8% - dblp.v12.json\b\b\b\b\b\b\b\b\b\b\b\b\b\b\b\b\b\b\b\b                    \b\b\b\b\b\b\b\b\b\b\b\b\b\b\b\b\b\b\b\b  9% - dblp.v12.json\b\b\b\b\b\b\b\b\b\b\b\b\b\b\b\b\b\b\b\b                    \b\b\b\b\b\b\b\b\b\b\b\b\b\b\b\b\b\b\b\b 10% - dblp.v12.json\b\b\b\b\b\b\b\b\b\b\b\b\b\b\b\b\b\b\b\b                    \b\b\b\b\b\b\b\b\b\b\b\b\b\b\b\b\b\b\b\b 11% - dblp.v12.json\b\b\b\b\b\b\b\b\b\b\b\b\b\b\b\b\b\b\b\b                    \b\b\b\b\b\b\b\b\b\b\b\b\b\b\b\b\b\b\b\b 12% - dblp.v12.json\b\b\b\b\b\b\b\b\b\b\b\b\b\b\b\b\b\b\b\b                    \b\b\b\b\b\b\b\b\b\b\b\b\b\b\b\b\b\b\b\b 13% - dblp.v12.json\b\b\b\b\b\b\b\b\b\b\b\b\b\b\b\b\b\b\b\b                    \b\b\b\b\b\b\b\b\b\b\b\b\b\b\b\b\b\b\b\b 14% - dblp.v12.json\b\b\b\b\b\b\b\b\b\b\b\b\b\b\b\b\b\b\b\b                    \b\b\b\b\b\b\b\b\b\b\b\b\b\b\b\b\b\b\b\b 15% - dblp.v12.json\b\b\b\b\b\b\b\b\b\b\b\b\b\b\b\b\b\b\b\b                    \b\b\b\b\b\b\b\b\b\b\b\b\b\b\b\b\b\b\b\b 16% - dblp.v12.json\b\b\b\b\b\b\b\b\b\b\b\b\b\b\b\b\b\b\b\b                    \b\b\b\b\b\b\b\b\b\b\b\b\b\b\b\b\b\b\b\b 17% - dblp.v12.json\b\b\b\b\b\b\b\b\b\b\b\b\b\b\b\b\b\b\b\b                    \b\b\b\b\b\b\b\b\b\b\b\b\b\b\b\b\b\b\b\b 18% - dblp.v12.json\b\b\b\b\b\b\b\b\b\b\b\b\b\b\b\b\b\b\b\b                    \b\b\b\b\b\b\b\b\b\b\b\b\b\b\b\b\b\b\b\b 19% - dblp.v12.json\b\b\b\b\b\b\b\b\b\b\b\b\b\b\b\b\b\b\b\b                    \b\b\b\b\b\b\b\b\b\b\b\b\b\b\b\b\b\b\b\b 20% - dblp.v12.json\b\b\b\b\b\b\b\b\b\b\b\b\b\b\b\b\b\b\b\b                    \b\b\b\b\b\b\b\b\b\b\b\b\b\b\b\b\b\b\b\b 21% - dblp.v12.json\b\b\b\b\b\b\b\b\b\b\b\b\b\b\b\b\b\b\b\b                    \b\b\b\b\b\b\b\b\b\b\b\b\b\b\b\b\b\b\b\b 22% - dblp.v12.json\b\b\b\b\b\b\b\b\b\b\b\b\b\b\b\b\b\b\b\b                    \b\b\b\b\b\b\b\b\b\b\b\b\b\b\b\b\b\b\b\b 23% - dblp.v12.json\b\b\b\b\b\b\b\b\b\b\b\b\b\b\b\b\b\b\b\b                    \b\b\b\b\b\b\b\b\b\b\b\b\b\b\b\b\b\b\b\b 24% - dblp.v12.json\b\b\b\b\b\b\b\b\b\b\b\b\b\b\b\b\b\b\b\b                    \b\b\b\b\b\b\b\b\b\b\b\b\b\b\b\b\b\b\b\b 25% - dblp.v12.json\b\b\b\b\b\b\b\b\b\b\b\b\b\b\b\b\b\b\b\b                    \b\b\b\b\b\b\b\b\b\b\b\b\b\b\b\b\b\b\b\b 26% - dblp.v12.json\b\b\b\b\b\b\b\b\b\b\b\b\b\b\b\b\b\b\b\b                    \b\b\b\b\b\b\b\b\b\b\b\b\b\b\b\b\b\b\b\b 27% - dblp.v12.json\b\b\b\b\b\b\b\b\b\b\b\b\b\b\b\b\b\b\b\b                    \b\b\b\b\b\b\b\b\b\b\b\b\b\b\b\b\b\b\b\b 28% - dblp.v12.json\b\b\b\b\b\b\b\b\b\b\b\b\b\b\b\b\b\b\b\b                    \b\b\b\b\b\b\b\b\b\b\b\b\b\b\b\b\b\b\b\b 29% - dblp.v12.json\b\b\b\b\b\b\b\b\b\b\b\b\b\b\b\b\b\b\b\b                    \b\b\b\b\b\b\b\b\b\b\b\b\b\b\b\b\b\b\b\b 30% - dblp.v12.json\b\b\b\b\b\b\b\b\b\b\b\b\b\b\b\b\b\b\b\b                    \b\b\b\b\b\b\b\b\b\b\b\b\b\b\b\b\b\b\b\b 31% - dblp.v12.json\b\b\b\b\b\b\b\b\b\b\b\b\b\b\b\b\b\b\b\b                    \b\b\b\b\b\b\b\b\b\b\b\b\b\b\b\b\b\b\b\b 32% - dblp.v12.json\b\b\b\b\b\b\b\b\b\b\b\b\b\b\b\b\b\b\b\b                    \b\b\b\b\b\b\b\b\b\b\b\b\b\b\b\b\b\b\b\b 33% - dblp.v12.json\b\b\b\b\b\b\b\b\b\b\b\b\b\b\b\b\b\b\b\b                    \b\b\b\b\b\b\b\b\b\b\b\b\b\b\b\b\b\b\b\b 34% - dblp.v12.json\b\b\b\b\b\b\b\b\b\b\b\b\b\b\b\b\b\b\b\b                    \b\b\b\b\b\b\b\b\b\b\b\b\b\b\b\b\b\b\b\b 35% - dblp.v12.json\b\b\b\b\b\b\b\b\b\b\b\b\b\b\b\b\b\b\b\b                    \b\b\b\b\b\b\b\b\b\b\b\b\b\b\b\b\b\b\b\b 36% - dblp.v12.json\b\b\b\b\b\b\b\b\b\b\b\b\b\b\b\b\b\b\b\b                    \b\b\b\b\b\b\b\b\b\b\b\b\b\b\b\b\b\b\b\b 37% - dblp.v12.json\b\b\b\b\b\b\b\b\b\b\b\b\b\b\b\b\b\b\b\b                    \b\b\b\b\b\b\b\b\b\b\b\b\b\b\b\b\b\b\b\b 38% - dblp.v12.json\b\b\b\b\b\b\b\b\b\b\b\b\b\b\b\b\b\b\b\b                    \b\b\b\b\b\b\b\b\b\b\b\b\b\b\b\b\b\b\b\b 39% - dblp.v12.json\b\b\b\b\b\b\b\b\b\b\b\b\b\b\b\b\b\b\b\b                    \b\b\b\b\b\b\b\b\b\b\b\b\b\b\b\b\b\b\b\b 40% - dblp.v12.json\b\b\b\b\b\b\b\b\b\b\b\b\b\b\b\b\b\b\b\b                    \b\b\b\b\b\b\b\b\b\b\b\b\b\b\b\b\b\b\b\b 41% - dblp.v12.json\b\b\b\b\b\b\b\b\b\b\b\b\b\b\b\b\b\b\b\b                    \b\b\b\b\b\b\b\b\b\b\b\b\b\b\b\b\b\b\b\b 42% - dblp.v12.json\b\b\b\b\b\b\b\b\b\b\b\b\b\b\b\b\b\b\b\b                    \b\b\b\b\b\b\b\b\b\b\b\b\b\b\b\b\b\b\b\b 43% - dblp.v12.json\b\b\b\b\b\b\b\b\b\b\b\b\b\b\b\b\b\b\b\b                    \b\b\b\b\b\b\b\b\b\b\b\b\b\b\b\b\b\b\b\b 44% - dblp.v12.json\b\b\b\b\b\b\b\b\b\b\b\b\b\b\b\b\b\b\b\b                    \b\b\b\b\b\b\b\b\b\b\b\b\b\b\b\b\b\b\b\b 45% - dblp.v12.json\b\b\b\b\b\b\b\b\b\b\b\b\b\b\b\b\b\b\b\b                    \b\b\b\b\b\b\b\b\b\b\b\b\b\b\b\b\b\b\b\b 46% - dblp.v12.json\b\b\b\b\b\b\b\b\b\b\b\b\b\b\b\b\b\b\b\b                    \b\b\b\b\b\b\b\b\b\b\b\b\b\b\b\b\b\b\b\b 47% - dblp.v12.json\b\b\b\b\b\b\b\b\b\b\b\b\b\b\b\b\b\b\b\b                    \b\b\b\b\b\b\b\b\b\b\b\b\b\b\b\b\b\b\b\b 48% - dblp.v12.json\b\b\b\b\b\b\b\b\b\b\b\b\b\b\b\b\b\b\b\b                    \b\b\b\b\b\b\b\b\b\b\b\b\b\b\b\b\b\b\b\b 49% - dblp.v12.json\b\b\b\b\b\b\b\b\b\b\b\b\b\b\b\b\b\b\b\b                    \b\b\b\b\b\b\b\b\b\b\b\b\b\b\b\b\b\b\b\b 50% - dblp.v12.json\b\b\b\b\b\b\b\b\b\b\b\b\b\b\b\b\b\b\b\b                    \b\b\b\b\b\b\b\b\b\b\b\b\b\b\b\b\b\b\b\b 51% - dblp.v12.json\b\b\b\b\b\b\b\b\b\b\b\b\b\b\b\b\b\b\b\b                    \b\b\b\b\b\b\b\b\b\b\b\b\b\b\b\b\b\b\b\b 52% - dblp.v12.json\b\b\b\b\b\b\b\b\b\b\b\b\b\b\b\b\b\b\b\b                    \b\b\b\b\b\b\b\b\b\b\b\b\b\b\b\b\b\b\b\b 53% - dblp.v12.json\b\b\b\b\b\b\b\b\b\b\b\b\b\b\b\b\b\b\b\b                    \b\b\b\b\b\b\b\b\b\b\b\b\b\b\b\b\b\b\b\b 54% - dblp.v12.json\b\b\b\b\b\b\b\b\b\b\b\b\b\b\b\b\b\b\b\b                    \b\b\b\b\b\b\b\b\b\b\b\b\b\b\b\b\b\b\b\b 55% - dblp.v12.json\b\b\b\b\b\b\b\b\b\b\b\b\b\b\b\b\b\b\b\b                    \b\b\b\b\b\b\b\b\b\b\b\b\b\b\b\b\b\b\b\b 56% - dblp.v12.json\b\b\b\b\b\b\b\b\b\b\b\b\b\b\b\b\b\b\b\b                    \b\b\b\b\b\b\b\b\b\b\b\b\b\b\b\b\b\b\b\b 57% - dblp.v12.json\b\b\b\b\b\b\b\b\b\b\b\b\b\b\b\b\b\b\b\b                    \b\b\b\b\b\b\b\b\b\b\b\b\b\b\b\b\b\b\b\b 58% - dblp.v12.json\b\b\b\b\b\b\b\b\b\b\b\b\b\b\b\b\b\b\b\b                    \b\b\b\b\b\b\b\b\b\b\b\b\b\b\b\b\b\b\b\b 59% - dblp.v12.json\b\b\b\b\b\b\b\b\b\b\b\b\b\b\b\b\b\b\b\b                    \b\b\b\b\b\b\b\b\b\b\b\b\b\b\b\b\b\b\b\b 60% - dblp.v12.json\b\b\b\b\b\b\b\b\b\b\b\b\b\b\b\b\b\b\b\b                    \b\b\b\b\b\b\b\b\b\b\b\b\b\b\b\b\b\b\b\b 61% - dblp.v12.json\b\b\b\b\b\b\b\b\b\b\b\b\b\b\b\b\b\b\b\b                    \b\b\b\b\b\b\b\b\b\b\b\b\b\b\b\b\b\b\b\b 62% - dblp.v12.json\b\b\b\b\b\b\b\b\b\b\b\b\b\b\b\b\b\b\b\b                    \b\b\b\b\b\b\b\b\b\b\b\b\b\b\b\b\b\b\b\b 63% - dblp.v12.json\b\b\b\b\b\b\b\b\b\b\b\b\b\b\b\b\b\b\b\b                    \b\b\b\b\b\b\b\b\b\b\b\b\b\b\b\b\b\b\b\b 64% - dblp.v12.json\b\b\b\b\b\b\b\b\b\b\b\b\b\b\b\b\b\b\b\b                    \b\b\b\b\b\b\b\b\b\b\b\b\b\b\b\b\b\b\b\b 65% - dblp.v12.json\b\b\b\b\b\b\b\b\b\b\b\b\b\b\b\b\b\b\b\b                    \b\b\b\b\b\b\b\b\b\b\b\b\b\b\b\b\b\b\b\b 66% - dblp.v12.json\b\b\b\b\b\b\b\b\b\b\b\b\b\b\b\b\b\b\b\b                    \b\b\b\b\b\b\b\b\b\b\b\b\b\b\b\b\b\b\b\b 67% - dblp.v12.json\b\b\b\b\b\b\b\b\b\b\b\b\b\b\b\b\b\b\b\b                    \b\b\b\b\b\b\b\b\b\b\b\b\b\b\b\b\b\b\b\b 68% - dblp.v12.json\b\b\b\b\b\b\b\b\b\b\b\b\b\b\b\b\b\b\b\b                    \b\b\b\b\b\b\b\b\b\b\b\b\b\b\b\b\b\b\b\b 69% - dblp.v12.json\b\b\b\b\b\b\b\b\b\b\b\b\b\b\b\b\b\b\b\b                    \b\b\b\b\b\b\b\b\b\b\b\b\b\b\b\b\b\b\b\b 70% - dblp.v12.json\b\b\b\b\b\b\b\b\b\b\b\b\b\b\b\b\b\b\b\b                    \b\b\b\b\b\b\b\b\b\b\b\b\b\b\b\b\b\b\b\b 71% - dblp.v12.json\b\b\b\b\b\b\b\b\b\b\b\b\b\b\b\b\b\b\b\b                    \b\b\b\b\b\b\b\b\b\b\b\b\b\b\b\b\b\b\b\b 72% - dblp.v12.json\b\b\b\b\b\b\b\b\b\b\b\b\b\b\b\b\b\b\b\b                    \b\b\b\b\b\b\b\b\b\b\b\b\b\b\b\b\b\b\b\b 73% - dblp.v12.json\b\b\b\b\b\b\b\b\b\b\b\b\b\b\b\b\b\b\b\b                    \b\b\b\b\b\b\b\b\b\b\b\b\b\b\b\b\b\b\b\b 74% - dblp.v12.json\b\b\b\b\b\b\b\b\b\b\b\b\b\b\b\b\b\b\b\b                    \b\b\b\b\b\b\b\b\b\b\b\b\b\b\b\b\b\b\b\b 75% - dblp.v12.json\b\b\b\b\b\b\b\b\b\b\b\b\b\b\b\b\b\b\b\b                    \b\b\b\b\b\b\b\b\b\b\b\b\b\b\b\b\b\b\b\b 76% - dblp.v12.json\b\b\b\b\b\b\b\b\b\b\b\b\b\b\b\b\b\b\b\b                    \b\b\b\b\b\b\b\b\b\b\b\b\b\b\b\b\b\b\b\b 77% - dblp.v12.json\b\b\b\b\b\b\b\b\b\b\b\b\b\b\b\b\b\b\b\b                    \b\b\b\b\b\b\b\b\b\b\b\b\b\b\b\b\b\b\b\b 78% - dblp.v12.json\b\b\b\b\b\b\b\b\b\b\b\b\b\b\b\b\b\b\b\b                    \b\b\b\b\b\b\b\b\b\b\b\b\b\b\b\b\b\b\b\b 79% - dblp.v12.json\b\b\b\b\b\b\b\b\b\b\b\b\b\b\b\b\b\b\b\b                    \b\b\b\b\b\b\b\b\b\b\b\b\b\b\b\b\b\b\b\b 80% - dblp.v12.json\b\b\b\b\b\b\b\b\b\b\b\b\b\b\b\b\b\b\b\b                    \b\b\b\b\b\b\b\b\b\b\b\b\b\b\b\b\b\b\b\b 81% - dblp.v12.json\b\b\b\b\b\b\b\b\b\b\b\b\b\b\b\b\b\b\b\b                    \b\b\b\b\b\b\b\b\b\b\b\b\b\b\b\b\b\b\b\b 82% - dblp.v12.json\b\b\b\b\b\b\b\b\b\b\b\b\b\b\b\b\b\b\b\b                    \b\b\b\b\b\b\b\b\b\b\b\b\b\b\b\b\b\b\b\b 83% - dblp.v12.json\b\b\b\b\b\b\b\b\b\b\b\b\b\b\b\b\b\b\b\b                    \b\b\b\b\b\b\b\b\b\b\b\b\b\b\b\b\b\b\b\b 84% - dblp.v12.json\b\b\b\b\b\b\b\b\b\b\b\b\b\b\b\b\b\b\b\b                    \b\b\b\b\b\b\b\b\b\b\b\b\b\b\b\b\b\b\b\b 85% - dblp.v12.json\b\b\b\b\b\b\b\b\b\b\b\b\b\b\b\b\b\b\b\b                    \b\b\b\b\b\b\b\b\b\b\b\b\b\b\b\b\b\b\b\b 86% - dblp.v12.json\b\b\b\b\b\b\b\b\b\b\b\b\b\b\b\b\b\b\b\b                    \b\b\b\b\b\b\b\b\b\b\b\b\b\b\b\b\b\b\b\b 87% - dblp.v12.json\b\b\b\b\b\b\b\b\b\b\b\b\b\b\b\b\b\b\b\b                    \b\b\b\b\b\b\b\b\b\b\b\b\b\b\b\b\b\b\b\b 88% - dblp.v12.json\b\b\b\b\b\b\b\b\b\b\b\b\b\b\b\b\b\b\b\b                    \b\b\b\b\b\b\b\b\b\b\b\b\b\b\b\b\b\b\b\b 89% - dblp.v12.json\b\b\b\b\b\b\b\b\b\b\b\b\b\b\b\b\b\b\b\b                    \b\b\b\b\b\b\b\b\b\b\b\b\b\b\b\b\b\b\b\b 90% - dblp.v12.json\b\b\b\b\b\b\b\b\b\b\b\b\b\b\b\b\b\b\b\b                    \b\b\b\b\b\b\b\b\b\b\b\b\b\b\b\b\b\b\b\b 91% - dblp.v12.json\b\b\b\b\b\b\b\b\b\b\b\b\b\b\b\b\b\b\b\b                    \b\b\b\b\b\b\b\b\b\b\b\b\b\b\b\b\b\b\b\b 92% - dblp.v12.json\b\b\b\b\b\b\b\b\b\b\b\b\b\b\b\b\b\b\b\b                    \b\b\b\b\b\b\b\b\b\b\b\b\b\b\b\b\b\b\b\b 93% - dblp.v12.json\b\b\b\b\b\b\b\b\b\b\b\b\b\b\b\b\b\b\b\b                    \b\b\b\b\b\b\b\b\b\b\b\b\b\b\b\b\b\b\b\b 94% - dblp.v12.json\b\b\b\b\b\b\b\b\b\b\b\b\b\b\b\b\b\b\b\b                    \b\b\b\b\b\b\b\b\b\b\b\b\b\b\b\b\b\b\b\b 95% - dblp.v12.json\b\b\b\b\b\b\b\b\b\b\b\b\b\b\b\b\b\b\b\b                    \b\b\b\b\b\b\b\b\b\b\b\b\b\b\b\b\b\b\b\b 96% - dblp.v12.json\b\b\b\b\b\b\b\b\b\b\b\b\b\b\b\b\b\b\b\b                    \b\b\b\b\b\b\b\b\b\b\b\b\b\b\b\b\b\b\b\b 97% - dblp.v12.json\b\b\b\b\b\b\b\b\b\b\b\b\b\b\b\b\b\b\b\b                    \b\b\b\b\b\b\b\b\b\b\b\b\b\b\b\b\b\b\b\b 98% - dblp.v12.json\b\b\b\b\b\b\b\b\b\b\b\b\b\b\b\b\b\b\b\b                    \b\b\b\b\b\b\b\b\b\b\b\b\b\b\b\b\b\b\b\b 99% - dblp.v12.json\b\b\b\b\b\b\b\b\b\b\b\b\b\b\b\b\b\b\b\b                    \b\b\b\b\b\b\b\b\b\b\b\b\b\b\b\b\b\b\b\b100% 1\b\b\b\b\b\b      \b\b\b\b\b\bEverything is Ok\n",
            "\n",
            "Size:       12520828317\n",
            "Compressed: 2727161612\n",
            "\u001b[K\u001b[?25h/tools/node/bin/json2csv -> /tools/node/lib/node_modules/json2csv/bin/json2csv.js\n",
            "+ json2csv@5.0.5\n",
            "added 4 packages from 6 contributors in 1.535s\n"
          ],
          "name": "stdout"
        }
      ]
    },
    {
      "cell_type": "code",
      "metadata": {
        "colab": {
          "background_save": true
        },
        "id": "xQkPd6yaAV7C"
      },
      "source": [
        "from math import isnan\n",
        "from collections import defaultdict, Counter\n",
        "\n",
        "import pandas as pd\n",
        "import matplotlib.pylab as plt\n",
        "import seaborn as sns\n",
        "\n",
        "from scholarmetrics import hindex"
      ],
      "execution_count": null,
      "outputs": []
    },
    {
      "cell_type": "code",
      "metadata": {
        "id": "_IlG4i_vkhlY"
      },
      "source": [
        "import dask.dataframe as dd"
      ],
      "execution_count": null,
      "outputs": []
    },
    {
      "cell_type": "code",
      "metadata": {
        "id": "4y9YVeF5AZXO"
      },
      "source": [
        "paper_df  = pd.read_csv('./dblp.v12.csv',\n",
        "                 usecols=['id', 'authors', 'n_citation', 'year'])\n",
        "\n",
        "assert paper_df ['authors'].isna().sum() < 20\n",
        "paper_df = paper_df .dropna(subset=['authors'])"
      ],
      "execution_count": null,
      "outputs": []
    },
    {
      "cell_type": "code",
      "metadata": {
        "id": "w_c0NL4S8BFe"
      },
      "source": [
        "paper_df.info()"
      ],
      "execution_count": null,
      "outputs": []
    },
    {
      "cell_type": "code",
      "metadata": {
        "id": "zekVdUgP8Slo"
      },
      "source": [
        ""
      ],
      "execution_count": null,
      "outputs": []
    },
    {
      "cell_type": "code",
      "metadata": {
        "id": "7v-47aLocrQQ"
      },
      "source": [
        "# paper_indegree = Counter()\n",
        "\n",
        "# count indegree citation\n",
        "# for _, paper in df.iterrows():\n",
        "#     if isinstance(paper['references'], str):\n",
        "#         cited_papers = eval(paper['references'])\n",
        "#         for cited_paper in eval(paper['references']):\n",
        "#             paper_indegree[cited_paper] += 1\n"
      ],
      "execution_count": null,
      "outputs": []
    },
    {
      "cell_type": "code",
      "metadata": {
        "id": "lLSvuZH_AWnh"
      },
      "source": [
        "author_d = defaultdict(dict)\n",
        "\n",
        "THIS_YEAR = 2020\n",
        "\n",
        "# build author dictionary\n",
        "for _, paper in paper_df .iterrows():\n",
        "    for author in eval(paper['authors']):\n",
        "        id_ = author['id']\n",
        "        author_d[id_]['name'] = author['name']\n",
        "        author_d[id_].setdefault('papers', []).append(paper['id'])\n",
        "        author_d[id_].setdefault('years', []).append(paper['year'])\n",
        "        author_d[id_].setdefault('n_citation', []).append(paper['n_citation'])\n",
        "\n",
        "# add indegree citation for each author's paper\n",
        "for id_ in author_d:\n",
        "    # author_d[id_]['indegrees'] = [paper_indegree[paper_id]\n",
        "    #                               for paper_id in author_d[id_]['papers']]\n",
        "    author_d[id_]['citations'] = sum(author_d[id_]['n_citation'])\n",
        "    author_d[id_]['hindex'] = hindex(author_d[id_]['n_citation'])\n",
        "\n",
        "    author_d[id_]['years_first'] = min(author_d[id_]['years'])\n",
        "    author_d[id_]['years_last'] = max(author_d[id_]['years'])\n",
        "\n",
        "    author_d[id_]['years_onset'] = THIS_YEAR - author_d[id_]['years_first']\n",
        "    author_d[id_]['years_active'] = (author_d[id_]['years_last']\n",
        "                                     - author_d[id_]['years_first'])\n",
        "\n",
        "author_df = pd.DataFrame.from_dict(author_d,\n",
        "                                   orient='index',\n",
        "                                   columns=['name', 'hindex', 'citations',\n",
        "                                            'years_first', 'years_last',\n",
        "                                            'years_onset', 'years_active'])\n",
        "\n",
        "author_df['last_name'] = author_df['name'].apply(lambda name: name.split()[-1])"
      ],
      "execution_count": null,
      "outputs": []
    },
    {
      "cell_type": "code",
      "metadata": {
        "id": "IXhzTKDHxNQz"
      },
      "source": [
        "author_df = pd.read_feather('authors.feather')"
      ],
      "execution_count": null,
      "outputs": []
    },
    {
      "cell_type": "code",
      "metadata": {
        "colab": {
          "base_uri": "https://localhost:8080/",
          "height": 204
        },
        "id": "R3amR5d-xpPc",
        "outputId": "3092941c-46dc-444a-a8b9-26b380fab48f"
      },
      "source": [
        "author_df.head()"
      ],
      "execution_count": null,
      "outputs": [
        {
          "output_type": "execute_result",
          "data": {
            "text/html": [
              "<div>\n",
              "<style scoped>\n",
              "    .dataframe tbody tr th:only-of-type {\n",
              "        vertical-align: middle;\n",
              "    }\n",
              "\n",
              "    .dataframe tbody tr th {\n",
              "        vertical-align: top;\n",
              "    }\n",
              "\n",
              "    .dataframe thead th {\n",
              "        text-align: right;\n",
              "    }\n",
              "</style>\n",
              "<table border=\"1\" class=\"dataframe\">\n",
              "  <thead>\n",
              "    <tr style=\"text-align: right;\">\n",
              "      <th></th>\n",
              "      <th>index</th>\n",
              "      <th>name</th>\n",
              "      <th>hindex</th>\n",
              "      <th>citations</th>\n",
              "      <th>years_first</th>\n",
              "      <th>years_last</th>\n",
              "      <th>years_onset</th>\n",
              "      <th>years_active</th>\n",
              "    </tr>\n",
              "  </thead>\n",
              "  <tbody>\n",
              "    <tr>\n",
              "      <th>0</th>\n",
              "      <td>2312688602</td>\n",
              "      <td>Makoto Satoh</td>\n",
              "      <td>1</td>\n",
              "      <td>2</td>\n",
              "      <td>2013</td>\n",
              "      <td>2014</td>\n",
              "      <td>7</td>\n",
              "      <td>1</td>\n",
              "    </tr>\n",
              "    <tr>\n",
              "      <th>1</th>\n",
              "      <td>2482909946</td>\n",
              "      <td>Ryo Muramatsu</td>\n",
              "      <td>1</td>\n",
              "      <td>1</td>\n",
              "      <td>2013</td>\n",
              "      <td>2013</td>\n",
              "      <td>7</td>\n",
              "      <td>0</td>\n",
              "    </tr>\n",
              "    <tr>\n",
              "      <th>2</th>\n",
              "      <td>2128134587</td>\n",
              "      <td>Mizue Kayama</td>\n",
              "      <td>5</td>\n",
              "      <td>129</td>\n",
              "      <td>1998</td>\n",
              "      <td>2019</td>\n",
              "      <td>22</td>\n",
              "      <td>21</td>\n",
              "    </tr>\n",
              "    <tr>\n",
              "      <th>3</th>\n",
              "      <td>2101782692</td>\n",
              "      <td>Kazunori Itoh</td>\n",
              "      <td>4</td>\n",
              "      <td>45</td>\n",
              "      <td>1994</td>\n",
              "      <td>2014</td>\n",
              "      <td>26</td>\n",
              "      <td>20</td>\n",
              "    </tr>\n",
              "    <tr>\n",
              "      <th>4</th>\n",
              "      <td>2114054191</td>\n",
              "      <td>Masami Hashimoto</td>\n",
              "      <td>3</td>\n",
              "      <td>25</td>\n",
              "      <td>1994</td>\n",
              "      <td>2016</td>\n",
              "      <td>26</td>\n",
              "      <td>22</td>\n",
              "    </tr>\n",
              "  </tbody>\n",
              "</table>\n",
              "</div>"
            ],
            "text/plain": [
              "        index              name  hindex  ...  years_last  years_onset  years_active\n",
              "0  2312688602      Makoto Satoh       1  ...        2014            7             1\n",
              "1  2482909946     Ryo Muramatsu       1  ...        2013            7             0\n",
              "2  2128134587      Mizue Kayama       5  ...        2019           22            21\n",
              "3  2101782692     Kazunori Itoh       4  ...        2014           26            20\n",
              "4  2114054191  Masami Hashimoto       3  ...        2016           26            22\n",
              "\n",
              "[5 rows x 8 columns]"
            ]
          },
          "metadata": {
            "tags": []
          },
          "execution_count": 6
        }
      ]
    },
    {
      "cell_type": "code",
      "metadata": {
        "colab": {
          "base_uri": "https://localhost:8080/",
          "height": 34
        },
        "id": "JqWbfmuewPR9",
        "outputId": "e88f6ff3-4372-4a7e-d4a6-6db3a4fb5a5d"
      },
      "source": [
        "len(author_df)"
      ],
      "execution_count": null,
      "outputs": [
        {
          "output_type": "execute_result",
          "data": {
            "text/plain": [
              "4398138"
            ]
          },
          "metadata": {
            "tags": []
          },
          "execution_count": 7
        }
      ]
    },
    {
      "cell_type": "code",
      "metadata": {
        "id": "985JYuZZw9wK"
      },
      "source": [
        "recent_author_df = author_df[author_df['years_first'] >= 1960]"
      ],
      "execution_count": null,
      "outputs": []
    },
    {
      "cell_type": "code",
      "metadata": {
        "colab": {
          "base_uri": "https://localhost:8080/",
          "height": 607
        },
        "id": "gSjGv5GQzRmK",
        "outputId": "c9a46f25-4006-40e6-bd0a-c0fdd95e0214"
      },
      "source": [
        "recent_author_df[recent_author_df['hindex'] > 100]"
      ],
      "execution_count": null,
      "outputs": [
        {
          "output_type": "execute_result",
          "data": {
            "text/html": [
              "<div>\n",
              "<style scoped>\n",
              "    .dataframe tbody tr th:only-of-type {\n",
              "        vertical-align: middle;\n",
              "    }\n",
              "\n",
              "    .dataframe tbody tr th {\n",
              "        vertical-align: top;\n",
              "    }\n",
              "\n",
              "    .dataframe thead th {\n",
              "        text-align: right;\n",
              "    }\n",
              "</style>\n",
              "<table border=\"1\" class=\"dataframe\">\n",
              "  <thead>\n",
              "    <tr style=\"text-align: right;\">\n",
              "      <th></th>\n",
              "      <th>index</th>\n",
              "      <th>name</th>\n",
              "      <th>hindex</th>\n",
              "      <th>citations</th>\n",
              "      <th>years_first</th>\n",
              "      <th>years_last</th>\n",
              "      <th>years_onset</th>\n",
              "      <th>years_active</th>\n",
              "    </tr>\n",
              "  </thead>\n",
              "  <tbody>\n",
              "    <tr>\n",
              "      <th>1840</th>\n",
              "      <td>2435751034</td>\n",
              "      <td>Michael I. Jordan</td>\n",
              "      <td>109</td>\n",
              "      <td>87762</td>\n",
              "      <td>1989</td>\n",
              "      <td>2019</td>\n",
              "      <td>31</td>\n",
              "      <td>30</td>\n",
              "    </tr>\n",
              "    <tr>\n",
              "      <th>2762</th>\n",
              "      <td>2125104194</td>\n",
              "      <td>Philip S. Yu</td>\n",
              "      <td>109</td>\n",
              "      <td>57431</td>\n",
              "      <td>1981</td>\n",
              "      <td>2020</td>\n",
              "      <td>39</td>\n",
              "      <td>39</td>\n",
              "    </tr>\n",
              "    <tr>\n",
              "      <th>7917</th>\n",
              "      <td>2469405535</td>\n",
              "      <td>Andrew Zisserman</td>\n",
              "      <td>126</td>\n",
              "      <td>92052</td>\n",
              "      <td>1986</td>\n",
              "      <td>2020</td>\n",
              "      <td>34</td>\n",
              "      <td>34</td>\n",
              "    </tr>\n",
              "    <tr>\n",
              "      <th>9010</th>\n",
              "      <td>2220829341</td>\n",
              "      <td>Christos H. Papadimitriou</td>\n",
              "      <td>101</td>\n",
              "      <td>41488</td>\n",
              "      <td>1976</td>\n",
              "      <td>2019</td>\n",
              "      <td>44</td>\n",
              "      <td>43</td>\n",
              "    </tr>\n",
              "    <tr>\n",
              "      <th>16799</th>\n",
              "      <td>2141382980</td>\n",
              "      <td>Francisco Herrera</td>\n",
              "      <td>111</td>\n",
              "      <td>49473</td>\n",
              "      <td>1994</td>\n",
              "      <td>2020</td>\n",
              "      <td>26</td>\n",
              "      <td>26</td>\n",
              "    </tr>\n",
              "    <tr>\n",
              "      <th>18479</th>\n",
              "      <td>2149631809</td>\n",
              "      <td>Thomas Huang</td>\n",
              "      <td>108</td>\n",
              "      <td>64727</td>\n",
              "      <td>1965</td>\n",
              "      <td>2019</td>\n",
              "      <td>55</td>\n",
              "      <td>54</td>\n",
              "    </tr>\n",
              "    <tr>\n",
              "      <th>26145</th>\n",
              "      <td>2198983026</td>\n",
              "      <td>Christos Faloutsos</td>\n",
              "      <td>103</td>\n",
              "      <td>52488</td>\n",
              "      <td>1982</td>\n",
              "      <td>2020</td>\n",
              "      <td>38</td>\n",
              "      <td>38</td>\n",
              "    </tr>\n",
              "    <tr>\n",
              "      <th>27089</th>\n",
              "      <td>2140539176</td>\n",
              "      <td>Takeo Kanade</td>\n",
              "      <td>107</td>\n",
              "      <td>59101</td>\n",
              "      <td>1973</td>\n",
              "      <td>2019</td>\n",
              "      <td>47</td>\n",
              "      <td>46</td>\n",
              "    </tr>\n",
              "    <tr>\n",
              "      <th>30354</th>\n",
              "      <td>2075956027</td>\n",
              "      <td>Sebastian Thrun</td>\n",
              "      <td>108</td>\n",
              "      <td>53820</td>\n",
              "      <td>1988</td>\n",
              "      <td>2017</td>\n",
              "      <td>32</td>\n",
              "      <td>29</td>\n",
              "    </tr>\n",
              "    <tr>\n",
              "      <th>34643</th>\n",
              "      <td>237419955</td>\n",
              "      <td>Héctor García-Molina</td>\n",
              "      <td>105</td>\n",
              "      <td>44439</td>\n",
              "      <td>1978</td>\n",
              "      <td>2019</td>\n",
              "      <td>42</td>\n",
              "      <td>41</td>\n",
              "    </tr>\n",
              "    <tr>\n",
              "      <th>36749</th>\n",
              "      <td>1988150995</td>\n",
              "      <td>Peng Shi</td>\n",
              "      <td>103</td>\n",
              "      <td>35503</td>\n",
              "      <td>1996</td>\n",
              "      <td>2020</td>\n",
              "      <td>24</td>\n",
              "      <td>24</td>\n",
              "    </tr>\n",
              "    <tr>\n",
              "      <th>37231</th>\n",
              "      <td>2161479384</td>\n",
              "      <td>Ion Stoica</td>\n",
              "      <td>102</td>\n",
              "      <td>57729</td>\n",
              "      <td>1995</td>\n",
              "      <td>2020</td>\n",
              "      <td>25</td>\n",
              "      <td>25</td>\n",
              "    </tr>\n",
              "    <tr>\n",
              "      <th>41928</th>\n",
              "      <td>161269817</td>\n",
              "      <td>Yoshua Bengio</td>\n",
              "      <td>119</td>\n",
              "      <td>114621</td>\n",
              "      <td>1988</td>\n",
              "      <td>2019</td>\n",
              "      <td>32</td>\n",
              "      <td>31</td>\n",
              "    </tr>\n",
              "    <tr>\n",
              "      <th>48143</th>\n",
              "      <td>2121939561</td>\n",
              "      <td>Jiawei Han</td>\n",
              "      <td>135</td>\n",
              "      <td>75205</td>\n",
              "      <td>1986</td>\n",
              "      <td>2020</td>\n",
              "      <td>34</td>\n",
              "      <td>34</td>\n",
              "    </tr>\n",
              "    <tr>\n",
              "      <th>54571</th>\n",
              "      <td>2162010601</td>\n",
              "      <td>Anil K. Jain</td>\n",
              "      <td>136</td>\n",
              "      <td>101553</td>\n",
              "      <td>1974</td>\n",
              "      <td>2020</td>\n",
              "      <td>46</td>\n",
              "      <td>46</td>\n",
              "    </tr>\n",
              "    <tr>\n",
              "      <th>63851</th>\n",
              "      <td>2136556746</td>\n",
              "      <td>Jitendra Malik</td>\n",
              "      <td>104</td>\n",
              "      <td>83642</td>\n",
              "      <td>1983</td>\n",
              "      <td>2019</td>\n",
              "      <td>37</td>\n",
              "      <td>36</td>\n",
              "    </tr>\n",
              "    <tr>\n",
              "      <th>66833</th>\n",
              "      <td>719828399</td>\n",
              "      <td>Scott Shenker</td>\n",
              "      <td>117</td>\n",
              "      <td>81552</td>\n",
              "      <td>1987</td>\n",
              "      <td>2019</td>\n",
              "      <td>33</td>\n",
              "      <td>32</td>\n",
              "    </tr>\n",
              "    <tr>\n",
              "      <th>154082</th>\n",
              "      <td>60615692</td>\n",
              "      <td>Georgios B. Giannakis</td>\n",
              "      <td>109</td>\n",
              "      <td>43387</td>\n",
              "      <td>1989</td>\n",
              "      <td>2019</td>\n",
              "      <td>31</td>\n",
              "      <td>30</td>\n",
              "    </tr>\n",
              "  </tbody>\n",
              "</table>\n",
              "</div>"
            ],
            "text/plain": [
              "             index                       name  ...  years_onset  years_active\n",
              "1840    2435751034          Michael I. Jordan  ...           31            30\n",
              "2762    2125104194               Philip S. Yu  ...           39            39\n",
              "7917    2469405535           Andrew Zisserman  ...           34            34\n",
              "9010    2220829341  Christos H. Papadimitriou  ...           44            43\n",
              "16799   2141382980          Francisco Herrera  ...           26            26\n",
              "18479   2149631809               Thomas Huang  ...           55            54\n",
              "26145   2198983026         Christos Faloutsos  ...           38            38\n",
              "27089   2140539176               Takeo Kanade  ...           47            46\n",
              "30354   2075956027            Sebastian Thrun  ...           32            29\n",
              "34643    237419955       Héctor García-Molina  ...           42            41\n",
              "36749   1988150995                   Peng Shi  ...           24            24\n",
              "37231   2161479384                 Ion Stoica  ...           25            25\n",
              "41928    161269817              Yoshua Bengio  ...           32            31\n",
              "48143   2121939561                 Jiawei Han  ...           34            34\n",
              "54571   2162010601               Anil K. Jain  ...           46            46\n",
              "63851   2136556746             Jitendra Malik  ...           37            36\n",
              "66833    719828399              Scott Shenker  ...           33            32\n",
              "154082    60615692      Georgios B. Giannakis  ...           31            30\n",
              "\n",
              "[18 rows x 8 columns]"
            ]
          },
          "metadata": {
            "tags": []
          },
          "execution_count": 9
        }
      ]
    },
    {
      "cell_type": "code",
      "metadata": {
        "colab": {
          "base_uri": "https://localhost:8080/",
          "height": 111
        },
        "id": "BFXSqVQ20kd1",
        "outputId": "165c9c4d-fc4c-4db5-d0af-a1225c3511cf"
      },
      "source": [
        "recent_author_df[recent_author_df['last_name'] == 'Filan']"
      ],
      "execution_count": null,
      "outputs": [
        {
          "output_type": "execute_result",
          "data": {
            "text/html": [
              "<div>\n",
              "<style scoped>\n",
              "    .dataframe tbody tr th:only-of-type {\n",
              "        vertical-align: middle;\n",
              "    }\n",
              "\n",
              "    .dataframe tbody tr th {\n",
              "        vertical-align: top;\n",
              "    }\n",
              "\n",
              "    .dataframe thead th {\n",
              "        text-align: right;\n",
              "    }\n",
              "</style>\n",
              "<table border=\"1\" class=\"dataframe\">\n",
              "  <thead>\n",
              "    <tr style=\"text-align: right;\">\n",
              "      <th></th>\n",
              "      <th>index</th>\n",
              "      <th>name</th>\n",
              "      <th>hindex</th>\n",
              "      <th>citations</th>\n",
              "      <th>years_first</th>\n",
              "      <th>years_last</th>\n",
              "      <th>years_onset</th>\n",
              "      <th>years_active</th>\n",
              "      <th>last_name</th>\n",
              "    </tr>\n",
              "  </thead>\n",
              "  <tbody>\n",
              "    <tr>\n",
              "      <th>2780838</th>\n",
              "      <td>2341219775</td>\n",
              "      <td>Daniel Filan</td>\n",
              "      <td>1</td>\n",
              "      <td>13</td>\n",
              "      <td>2016</td>\n",
              "      <td>2018</td>\n",
              "      <td>4</td>\n",
              "      <td>2</td>\n",
              "      <td>Filan</td>\n",
              "    </tr>\n",
              "    <tr>\n",
              "      <th>4354344</th>\n",
              "      <td>2674518228</td>\n",
              "      <td>Daniel Filan</td>\n",
              "      <td>1</td>\n",
              "      <td>1</td>\n",
              "      <td>2017</td>\n",
              "      <td>2017</td>\n",
              "      <td>3</td>\n",
              "      <td>0</td>\n",
              "      <td>Filan</td>\n",
              "    </tr>\n",
              "  </tbody>\n",
              "</table>\n",
              "</div>"
            ],
            "text/plain": [
              "              index          name  hindex  ...  years_onset  years_active  last_name\n",
              "2780838  2341219775  Daniel Filan       1  ...            4             2      Filan\n",
              "4354344  2674518228  Daniel Filan       1  ...            3             0      Filan\n",
              "\n",
              "[2 rows x 9 columns]"
            ]
          },
          "metadata": {
            "tags": []
          },
          "execution_count": 29
        }
      ]
    },
    {
      "cell_type": "code",
      "metadata": {
        "id": "zX7EuN_u6p0R"
      },
      "source": [
        "from scipy.stats import spearmanr, kendalltau"
      ],
      "execution_count": null,
      "outputs": []
    },
    {
      "cell_type": "code",
      "metadata": {
        "colab": {
          "base_uri": "https://localhost:8080/",
          "height": 34
        },
        "id": "S_5QlLMX1wJt",
        "outputId": "646c2dce-bc64-42ea-e9a5-74f963cc3d6b"
      },
      "source": [
        "spearmanr(recent_author_df['hindex'], recent_author_df['name'])"
      ],
      "execution_count": null,
      "outputs": [
        {
          "output_type": "execute_result",
          "data": {
            "text/plain": [
              "SpearmanrResult(correlation=-0.0379018501811604, pvalue=0.0)"
            ]
          },
          "metadata": {
            "tags": []
          },
          "execution_count": 30
        }
      ]
    },
    {
      "cell_type": "code",
      "metadata": {
        "colab": {
          "base_uri": "https://localhost:8080/",
          "height": 34
        },
        "id": "_y4Yd0SQ7wYZ",
        "outputId": "e4de7507-2ef6-410d-95d6-2539534374a6"
      },
      "source": [
        "spearmanr(recent_author_df['hindex'], recent_author_df['last_name'])"
      ],
      "execution_count": null,
      "outputs": [
        {
          "output_type": "execute_result",
          "data": {
            "text/plain": [
              "SpearmanrResult(correlation=-0.03228711292117577, pvalue=0.0)"
            ]
          },
          "metadata": {
            "tags": []
          },
          "execution_count": 31
        }
      ]
    },
    {
      "cell_type": "code",
      "metadata": {
        "colab": {
          "base_uri": "https://localhost:8080/",
          "height": 34
        },
        "id": "iFFW7Vn161fC",
        "outputId": "5bd24dd9-99e6-4208-8496-23d8d9f30979"
      },
      "source": [
        "spearmanr(recent_author_df['hindex'], recent_author_df['years_active'])"
      ],
      "execution_count": null,
      "outputs": [
        {
          "output_type": "execute_result",
          "data": {
            "text/plain": [
              "SpearmanrResult(correlation=0.6477591473583352, pvalue=0.0)"
            ]
          },
          "metadata": {
            "tags": []
          },
          "execution_count": 32
        }
      ]
    },
    {
      "cell_type": "code",
      "metadata": {
        "colab": {
          "base_uri": "https://localhost:8080/",
          "height": 34
        },
        "id": "Qe_hgi0g6_L3",
        "outputId": "94ede676-caa6-4cec-e713-dc9c42015a15"
      },
      "source": [
        "spearmanr(recent_author_df['hindex'], recent_author_df['years_onset'])"
      ],
      "execution_count": null,
      "outputs": [
        {
          "output_type": "execute_result",
          "data": {
            "text/plain": [
              "SpearmanrResult(correlation=0.3083028983386319, pvalue=0.0)"
            ]
          },
          "metadata": {
            "tags": []
          },
          "execution_count": 33
        }
      ]
    },
    {
      "cell_type": "code",
      "metadata": {
        "id": "jJJtxrwl4Qde"
      },
      "source": [
        "hindex_rank = recent_author_df['hindex'].rank()\n",
        "name_rank = recent_author_df['name'].rank()\n",
        "years_active_rank = recent_author_df['years_active'].rank()"
      ],
      "execution_count": null,
      "outputs": []
    },
    {
      "cell_type": "code",
      "metadata": {
        "colab": {
          "base_uri": "https://localhost:8080/",
          "height": 351
        },
        "id": "CQ9w4TmY1f3q",
        "outputId": "69b43441-ffcd-4f75-edc6-f0eb5a73d589"
      },
      "source": [
        "sns.lineplot(recent_author_df['years_active'])"
      ],
      "execution_count": null,
      "outputs": [
        {
          "output_type": "stream",
          "text": [
            "/usr/local/lib/python3.6/dist-packages/seaborn/_decorators.py:43: FutureWarning: Pass the following variable as a keyword arg: x. From version 0.12, the only valid positional argument will be `data`, and passing other arguments without an explicit keyword will result in an error or misinterpretation.\n",
            "  FutureWarning\n"
          ],
          "name": "stderr"
        },
        {
          "output_type": "execute_result",
          "data": {
            "text/plain": [
              "<matplotlib.axes._subplots.AxesSubplot at 0x7f8e4dca4ba8>"
            ]
          },
          "metadata": {
            "tags": []
          },
          "execution_count": 14
        },
        {
          "output_type": "display_data",
          "data": {
            "image/png": "[encoded data removed]",
            "text/plain": [
              "<Figure size 432x288 with 1 Axes>"
            ]
          },
          "metadata": {
            "tags": []
          }
        }
      ]
    },
    {
      "cell_type": "code",
      "metadata": {
        "colab": {
          "base_uri": "https://localhost:8080/",
          "height": 361
        },
        "id": "fdN2TQ6S1kee",
        "outputId": "70b8dac8-aee5-49d8-9b82-5a7649a1f724"
      },
      "source": [
        "sns.scatterplot(hindex_rank, years_active_rank)"
      ],
      "execution_count": null,
      "outputs": [
        {
          "output_type": "stream",
          "text": [
            "/usr/local/lib/python3.6/dist-packages/seaborn/_decorators.py:43: FutureWarning: Pass the following variables as keyword args: x, y. From version 0.12, the only valid positional argument will be `data`, and passing other arguments without an explicit keyword will result in an error or misinterpretation.\n",
            "  FutureWarning\n"
          ],
          "name": "stderr"
        },
        {
          "output_type": "execute_result",
          "data": {
            "text/plain": [
              "<matplotlib.axes._subplots.AxesSubplot at 0x7f80749f3748>"
            ]
          },
          "metadata": {
            "tags": []
          },
          "execution_count": 89
        },
        {
          "output_type": "display_data",
          "data": {
            "image/png": "[encoded data removed]",
            "text/plain": [
              "<Figure size 432x288 with 1 Axes>"
            ]
          },
          "metadata": {
            "tags": []
          }
        }
      ]
    }
  ]
}